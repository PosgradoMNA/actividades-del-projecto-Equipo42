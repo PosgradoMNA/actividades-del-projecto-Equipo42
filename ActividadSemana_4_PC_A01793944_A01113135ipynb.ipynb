{
  "nbformat": 4,
  "nbformat_minor": 0,
  "metadata": {
    "colab": {
      "provenance": [],
      "include_colab_link": true
    },
    "kernelspec": {
      "name": "python3",
      "display_name": "Python 3"
    },
    "language_info": {
      "name": "python"
    }
  },
  "cells": [
    {
      "cell_type": "markdown",
      "metadata": {
        "id": "view-in-github",
        "colab_type": "text"
      },
      "source": [
        "<a href=\"https://colab.research.google.com/github/PosgradoMNA/actividades-del-projecto-Equipo42/blob/main/ActividadSemana_4_PC_A01793944_A01113135ipynb.ipynb\" target=\"_parent\"><img src=\"https://colab.research.google.com/assets/colab-badge.svg\" alt=\"Open In Colab\"/></a>"
      ]
    },
    {
      "cell_type": "markdown",
      "source": [
        "# **Actividad Semana 4 (PCA)\n",
        "# Daniel Velasco Zarate A01793944\n",
        "# Marco Antonio López Millán A01113135\n",
        "# Ciencia y analítica de datos (Gpo 10)\n",
        "# 11/10/2022**"
      ],
      "metadata": {
        "id": "Wf3nIBfBzZhJ"
      }
    },
    {
      "cell_type": "code",
      "execution_count": null,
      "metadata": {
        "colab": {
          "base_uri": "https://localhost:8080/",
          "height": 424
        },
        "id": "o9OMk5JhDuTM",
        "outputId": "993301e3-2d36-4454-ef7b-b70175328840"
      },
      "outputs": [
        {
          "output_type": "execute_result",
          "data": {
            "text/plain": [
              "       amountCredit  Gender  Edu  MStatus   Age   X6   X7   X8   X9  X10  ...  \\\n",
              "1             20000     2.0  2.0      1.0  24.0  2.0  2.0 -1.0 -1.0 -2.0  ...   \n",
              "2            120000     2.0  2.0      2.0  26.0 -1.0  2.0  0.0  0.0  0.0  ...   \n",
              "3             90000     2.0  2.0      2.0  34.0  0.0  0.0  0.0  0.0  0.0  ...   \n",
              "4             50000     2.0  2.0      1.0  37.0  0.0  0.0  0.0  0.0  0.0  ...   \n",
              "5             50000     1.0  2.0      1.0  57.0 -1.0  0.0 -1.0  0.0  0.0  ...   \n",
              "...             ...     ...  ...      ...   ...  ...  ...  ...  ...  ...  ...   \n",
              "29996        220000     1.0  3.0      1.0  39.0  0.0  0.0  0.0  0.0  0.0  ...   \n",
              "29997        150000     1.0  3.0      2.0  43.0 -1.0 -1.0 -1.0 -1.0  0.0  ...   \n",
              "29998         30000     1.0  2.0      2.0  37.0  4.0  3.0  2.0 -1.0  0.0  ...   \n",
              "29999         80000     1.0  3.0      1.0  41.0  1.0 -1.0  0.0  0.0  0.0  ...   \n",
              "30000         50000     1.0  2.0      1.0  46.0  0.0  0.0  0.0  0.0  0.0  ...   \n",
              "\n",
              "            X14      X15      X16      X17  amountPreviousPayment      X19  \\\n",
              "1         689.0      0.0      0.0      0.0                    0.0    689.0   \n",
              "2        2682.0   3272.0   3455.0   3261.0                    0.0   1000.0   \n",
              "3       13559.0  14331.0  14948.0  15549.0                 1518.0   1500.0   \n",
              "4       49291.0  28314.0  28959.0  29547.0                 2000.0   2019.0   \n",
              "5       35835.0  20940.0  19146.0  19131.0                 2000.0  36681.0   \n",
              "...         ...      ...      ...      ...                    ...      ...   \n",
              "29996  208365.0  88004.0  31237.0  15980.0                 8500.0  20000.0   \n",
              "29997    3502.0   8979.0   5190.0      0.0                 1837.0   3526.0   \n",
              "29998    2758.0  20878.0  20582.0  19357.0                    0.0      0.0   \n",
              "29999   76304.0  52774.0  11855.0  48944.0                85900.0   3409.0   \n",
              "30000   49764.0  36535.0  32428.0  15313.0                 2078.0   1800.0   \n",
              "\n",
              "           X20     X21      X22     X23  \n",
              "1          0.0     0.0      0.0     0.0  \n",
              "2       1000.0  1000.0      0.0  2000.0  \n",
              "3       1000.0  1000.0   1000.0  5000.0  \n",
              "4       1200.0  1100.0   1069.0  1000.0  \n",
              "5      10000.0  9000.0    689.0   679.0  \n",
              "...        ...     ...      ...     ...  \n",
              "29996   5003.0  3047.0   5000.0  1000.0  \n",
              "29997   8998.0   129.0      0.0     0.0  \n",
              "29998  22000.0  4200.0   2000.0  3100.0  \n",
              "29999   1178.0  1926.0  52964.0  1804.0  \n",
              "30000   1430.0  1000.0   1000.0  1000.0  \n",
              "\n",
              "[30000 rows x 23 columns]"
            ],
            "text/html": [
              "\n",
              "  <div id=\"df-4ba42fab-3f7d-4a2a-996e-d37c63231175\">\n",
              "    <div class=\"colab-df-container\">\n",
              "      <div>\n",
              "<style scoped>\n",
              "    .dataframe tbody tr th:only-of-type {\n",
              "        vertical-align: middle;\n",
              "    }\n",
              "\n",
              "    .dataframe tbody tr th {\n",
              "        vertical-align: top;\n",
              "    }\n",
              "\n",
              "    .dataframe thead th {\n",
              "        text-align: right;\n",
              "    }\n",
              "</style>\n",
              "<table border=\"1\" class=\"dataframe\">\n",
              "  <thead>\n",
              "    <tr style=\"text-align: right;\">\n",
              "      <th></th>\n",
              "      <th>amountCredit</th>\n",
              "      <th>Gender</th>\n",
              "      <th>Edu</th>\n",
              "      <th>MStatus</th>\n",
              "      <th>Age</th>\n",
              "      <th>X6</th>\n",
              "      <th>X7</th>\n",
              "      <th>X8</th>\n",
              "      <th>X9</th>\n",
              "      <th>X10</th>\n",
              "      <th>...</th>\n",
              "      <th>X14</th>\n",
              "      <th>X15</th>\n",
              "      <th>X16</th>\n",
              "      <th>X17</th>\n",
              "      <th>amountPreviousPayment</th>\n",
              "      <th>X19</th>\n",
              "      <th>X20</th>\n",
              "      <th>X21</th>\n",
              "      <th>X22</th>\n",
              "      <th>X23</th>\n",
              "    </tr>\n",
              "  </thead>\n",
              "  <tbody>\n",
              "    <tr>\n",
              "      <th>1</th>\n",
              "      <td>20000</td>\n",
              "      <td>2.0</td>\n",
              "      <td>2.0</td>\n",
              "      <td>1.0</td>\n",
              "      <td>24.0</td>\n",
              "      <td>2.0</td>\n",
              "      <td>2.0</td>\n",
              "      <td>-1.0</td>\n",
              "      <td>-1.0</td>\n",
              "      <td>-2.0</td>\n",
              "      <td>...</td>\n",
              "      <td>689.0</td>\n",
              "      <td>0.0</td>\n",
              "      <td>0.0</td>\n",
              "      <td>0.0</td>\n",
              "      <td>0.0</td>\n",
              "      <td>689.0</td>\n",
              "      <td>0.0</td>\n",
              "      <td>0.0</td>\n",
              "      <td>0.0</td>\n",
              "      <td>0.0</td>\n",
              "    </tr>\n",
              "    <tr>\n",
              "      <th>2</th>\n",
              "      <td>120000</td>\n",
              "      <td>2.0</td>\n",
              "      <td>2.0</td>\n",
              "      <td>2.0</td>\n",
              "      <td>26.0</td>\n",
              "      <td>-1.0</td>\n",
              "      <td>2.0</td>\n",
              "      <td>0.0</td>\n",
              "      <td>0.0</td>\n",
              "      <td>0.0</td>\n",
              "      <td>...</td>\n",
              "      <td>2682.0</td>\n",
              "      <td>3272.0</td>\n",
              "      <td>3455.0</td>\n",
              "      <td>3261.0</td>\n",
              "      <td>0.0</td>\n",
              "      <td>1000.0</td>\n",
              "      <td>1000.0</td>\n",
              "      <td>1000.0</td>\n",
              "      <td>0.0</td>\n",
              "      <td>2000.0</td>\n",
              "    </tr>\n",
              "    <tr>\n",
              "      <th>3</th>\n",
              "      <td>90000</td>\n",
              "      <td>2.0</td>\n",
              "      <td>2.0</td>\n",
              "      <td>2.0</td>\n",
              "      <td>34.0</td>\n",
              "      <td>0.0</td>\n",
              "      <td>0.0</td>\n",
              "      <td>0.0</td>\n",
              "      <td>0.0</td>\n",
              "      <td>0.0</td>\n",
              "      <td>...</td>\n",
              "      <td>13559.0</td>\n",
              "      <td>14331.0</td>\n",
              "      <td>14948.0</td>\n",
              "      <td>15549.0</td>\n",
              "      <td>1518.0</td>\n",
              "      <td>1500.0</td>\n",
              "      <td>1000.0</td>\n",
              "      <td>1000.0</td>\n",
              "      <td>1000.0</td>\n",
              "      <td>5000.0</td>\n",
              "    </tr>\n",
              "    <tr>\n",
              "      <th>4</th>\n",
              "      <td>50000</td>\n",
              "      <td>2.0</td>\n",
              "      <td>2.0</td>\n",
              "      <td>1.0</td>\n",
              "      <td>37.0</td>\n",
              "      <td>0.0</td>\n",
              "      <td>0.0</td>\n",
              "      <td>0.0</td>\n",
              "      <td>0.0</td>\n",
              "      <td>0.0</td>\n",
              "      <td>...</td>\n",
              "      <td>49291.0</td>\n",
              "      <td>28314.0</td>\n",
              "      <td>28959.0</td>\n",
              "      <td>29547.0</td>\n",
              "      <td>2000.0</td>\n",
              "      <td>2019.0</td>\n",
              "      <td>1200.0</td>\n",
              "      <td>1100.0</td>\n",
              "      <td>1069.0</td>\n",
              "      <td>1000.0</td>\n",
              "    </tr>\n",
              "    <tr>\n",
              "      <th>5</th>\n",
              "      <td>50000</td>\n",
              "      <td>1.0</td>\n",
              "      <td>2.0</td>\n",
              "      <td>1.0</td>\n",
              "      <td>57.0</td>\n",
              "      <td>-1.0</td>\n",
              "      <td>0.0</td>\n",
              "      <td>-1.0</td>\n",
              "      <td>0.0</td>\n",
              "      <td>0.0</td>\n",
              "      <td>...</td>\n",
              "      <td>35835.0</td>\n",
              "      <td>20940.0</td>\n",
              "      <td>19146.0</td>\n",
              "      <td>19131.0</td>\n",
              "      <td>2000.0</td>\n",
              "      <td>36681.0</td>\n",
              "      <td>10000.0</td>\n",
              "      <td>9000.0</td>\n",
              "      <td>689.0</td>\n",
              "      <td>679.0</td>\n",
              "    </tr>\n",
              "    <tr>\n",
              "      <th>...</th>\n",
              "      <td>...</td>\n",
              "      <td>...</td>\n",
              "      <td>...</td>\n",
              "      <td>...</td>\n",
              "      <td>...</td>\n",
              "      <td>...</td>\n",
              "      <td>...</td>\n",
              "      <td>...</td>\n",
              "      <td>...</td>\n",
              "      <td>...</td>\n",
              "      <td>...</td>\n",
              "      <td>...</td>\n",
              "      <td>...</td>\n",
              "      <td>...</td>\n",
              "      <td>...</td>\n",
              "      <td>...</td>\n",
              "      <td>...</td>\n",
              "      <td>...</td>\n",
              "      <td>...</td>\n",
              "      <td>...</td>\n",
              "      <td>...</td>\n",
              "    </tr>\n",
              "    <tr>\n",
              "      <th>29996</th>\n",
              "      <td>220000</td>\n",
              "      <td>1.0</td>\n",
              "      <td>3.0</td>\n",
              "      <td>1.0</td>\n",
              "      <td>39.0</td>\n",
              "      <td>0.0</td>\n",
              "      <td>0.0</td>\n",
              "      <td>0.0</td>\n",
              "      <td>0.0</td>\n",
              "      <td>0.0</td>\n",
              "      <td>...</td>\n",
              "      <td>208365.0</td>\n",
              "      <td>88004.0</td>\n",
              "      <td>31237.0</td>\n",
              "      <td>15980.0</td>\n",
              "      <td>8500.0</td>\n",
              "      <td>20000.0</td>\n",
              "      <td>5003.0</td>\n",
              "      <td>3047.0</td>\n",
              "      <td>5000.0</td>\n",
              "      <td>1000.0</td>\n",
              "    </tr>\n",
              "    <tr>\n",
              "      <th>29997</th>\n",
              "      <td>150000</td>\n",
              "      <td>1.0</td>\n",
              "      <td>3.0</td>\n",
              "      <td>2.0</td>\n",
              "      <td>43.0</td>\n",
              "      <td>-1.0</td>\n",
              "      <td>-1.0</td>\n",
              "      <td>-1.0</td>\n",
              "      <td>-1.0</td>\n",
              "      <td>0.0</td>\n",
              "      <td>...</td>\n",
              "      <td>3502.0</td>\n",
              "      <td>8979.0</td>\n",
              "      <td>5190.0</td>\n",
              "      <td>0.0</td>\n",
              "      <td>1837.0</td>\n",
              "      <td>3526.0</td>\n",
              "      <td>8998.0</td>\n",
              "      <td>129.0</td>\n",
              "      <td>0.0</td>\n",
              "      <td>0.0</td>\n",
              "    </tr>\n",
              "    <tr>\n",
              "      <th>29998</th>\n",
              "      <td>30000</td>\n",
              "      <td>1.0</td>\n",
              "      <td>2.0</td>\n",
              "      <td>2.0</td>\n",
              "      <td>37.0</td>\n",
              "      <td>4.0</td>\n",
              "      <td>3.0</td>\n",
              "      <td>2.0</td>\n",
              "      <td>-1.0</td>\n",
              "      <td>0.0</td>\n",
              "      <td>...</td>\n",
              "      <td>2758.0</td>\n",
              "      <td>20878.0</td>\n",
              "      <td>20582.0</td>\n",
              "      <td>19357.0</td>\n",
              "      <td>0.0</td>\n",
              "      <td>0.0</td>\n",
              "      <td>22000.0</td>\n",
              "      <td>4200.0</td>\n",
              "      <td>2000.0</td>\n",
              "      <td>3100.0</td>\n",
              "    </tr>\n",
              "    <tr>\n",
              "      <th>29999</th>\n",
              "      <td>80000</td>\n",
              "      <td>1.0</td>\n",
              "      <td>3.0</td>\n",
              "      <td>1.0</td>\n",
              "      <td>41.0</td>\n",
              "      <td>1.0</td>\n",
              "      <td>-1.0</td>\n",
              "      <td>0.0</td>\n",
              "      <td>0.0</td>\n",
              "      <td>0.0</td>\n",
              "      <td>...</td>\n",
              "      <td>76304.0</td>\n",
              "      <td>52774.0</td>\n",
              "      <td>11855.0</td>\n",
              "      <td>48944.0</td>\n",
              "      <td>85900.0</td>\n",
              "      <td>3409.0</td>\n",
              "      <td>1178.0</td>\n",
              "      <td>1926.0</td>\n",
              "      <td>52964.0</td>\n",
              "      <td>1804.0</td>\n",
              "    </tr>\n",
              "    <tr>\n",
              "      <th>30000</th>\n",
              "      <td>50000</td>\n",
              "      <td>1.0</td>\n",
              "      <td>2.0</td>\n",
              "      <td>1.0</td>\n",
              "      <td>46.0</td>\n",
              "      <td>0.0</td>\n",
              "      <td>0.0</td>\n",
              "      <td>0.0</td>\n",
              "      <td>0.0</td>\n",
              "      <td>0.0</td>\n",
              "      <td>...</td>\n",
              "      <td>49764.0</td>\n",
              "      <td>36535.0</td>\n",
              "      <td>32428.0</td>\n",
              "      <td>15313.0</td>\n",
              "      <td>2078.0</td>\n",
              "      <td>1800.0</td>\n",
              "      <td>1430.0</td>\n",
              "      <td>1000.0</td>\n",
              "      <td>1000.0</td>\n",
              "      <td>1000.0</td>\n",
              "    </tr>\n",
              "  </tbody>\n",
              "</table>\n",
              "<p>30000 rows × 23 columns</p>\n",
              "</div>\n",
              "      <button class=\"colab-df-convert\" onclick=\"convertToInteractive('df-4ba42fab-3f7d-4a2a-996e-d37c63231175')\"\n",
              "              title=\"Convert this dataframe to an interactive table.\"\n",
              "              style=\"display:none;\">\n",
              "        \n",
              "  <svg xmlns=\"http://www.w3.org/2000/svg\" height=\"24px\"viewBox=\"0 0 24 24\"\n",
              "       width=\"24px\">\n",
              "    <path d=\"M0 0h24v24H0V0z\" fill=\"none\"/>\n",
              "    <path d=\"M18.56 5.44l.94 2.06.94-2.06 2.06-.94-2.06-.94-.94-2.06-.94 2.06-2.06.94zm-11 1L8.5 8.5l.94-2.06 2.06-.94-2.06-.94L8.5 2.5l-.94 2.06-2.06.94zm10 10l.94 2.06.94-2.06 2.06-.94-2.06-.94-.94-2.06-.94 2.06-2.06.94z\"/><path d=\"M17.41 7.96l-1.37-1.37c-.4-.4-.92-.59-1.43-.59-.52 0-1.04.2-1.43.59L10.3 9.45l-7.72 7.72c-.78.78-.78 2.05 0 2.83L4 21.41c.39.39.9.59 1.41.59.51 0 1.02-.2 1.41-.59l7.78-7.78 2.81-2.81c.8-.78.8-2.07 0-2.86zM5.41 20L4 18.59l7.72-7.72 1.47 1.35L5.41 20z\"/>\n",
              "  </svg>\n",
              "      </button>\n",
              "      \n",
              "  <style>\n",
              "    .colab-df-container {\n",
              "      display:flex;\n",
              "      flex-wrap:wrap;\n",
              "      gap: 12px;\n",
              "    }\n",
              "\n",
              "    .colab-df-convert {\n",
              "      background-color: #E8F0FE;\n",
              "      border: none;\n",
              "      border-radius: 50%;\n",
              "      cursor: pointer;\n",
              "      display: none;\n",
              "      fill: #1967D2;\n",
              "      height: 32px;\n",
              "      padding: 0 0 0 0;\n",
              "      width: 32px;\n",
              "    }\n",
              "\n",
              "    .colab-df-convert:hover {\n",
              "      background-color: #E2EBFA;\n",
              "      box-shadow: 0px 1px 2px rgba(60, 64, 67, 0.3), 0px 1px 3px 1px rgba(60, 64, 67, 0.15);\n",
              "      fill: #174EA6;\n",
              "    }\n",
              "\n",
              "    [theme=dark] .colab-df-convert {\n",
              "      background-color: #3B4455;\n",
              "      fill: #D2E3FC;\n",
              "    }\n",
              "\n",
              "    [theme=dark] .colab-df-convert:hover {\n",
              "      background-color: #434B5C;\n",
              "      box-shadow: 0px 1px 3px 1px rgba(0, 0, 0, 0.15);\n",
              "      filter: drop-shadow(0px 1px 2px rgba(0, 0, 0, 0.3));\n",
              "      fill: #FFFFFF;\n",
              "    }\n",
              "  </style>\n",
              "\n",
              "      <script>\n",
              "        const buttonEl =\n",
              "          document.querySelector('#df-4ba42fab-3f7d-4a2a-996e-d37c63231175 button.colab-df-convert');\n",
              "        buttonEl.style.display =\n",
              "          google.colab.kernel.accessAllowed ? 'block' : 'none';\n",
              "\n",
              "        async function convertToInteractive(key) {\n",
              "          const element = document.querySelector('#df-4ba42fab-3f7d-4a2a-996e-d37c63231175');\n",
              "          const dataTable =\n",
              "            await google.colab.kernel.invokeFunction('convertToInteractive',\n",
              "                                                     [key], {});\n",
              "          if (!dataTable) return;\n",
              "\n",
              "          const docLinkHtml = 'Like what you see? Visit the ' +\n",
              "            '<a target=\"_blank\" href=https://colab.research.google.com/notebooks/data_table.ipynb>data table notebook</a>'\n",
              "            + ' to learn more about interactive tables.';\n",
              "          element.innerHTML = '';\n",
              "          dataTable['output_type'] = 'display_data';\n",
              "          await google.colab.output.renderOutput(dataTable, element);\n",
              "          const docLink = document.createElement('div');\n",
              "          docLink.innerHTML = docLinkHtml;\n",
              "          element.appendChild(docLink);\n",
              "        }\n",
              "      </script>\n",
              "    </div>\n",
              "  </div>\n",
              "  "
            ]
          },
          "metadata": {},
          "execution_count": 2
        }
      ],
      "source": [
        "import pandas as pd #importando pandas\n",
        "import numpy as np #importando numby\n",
        "payments = \"https://raw.githubusercontent.com/PosgradoMNA/Actividades_Aprendizaje-/main/default%20of%20credit%20card%20clients.csv\" #asignando la bd a payments\n",
        "payments_df = pd.read_csv(payments, index_col = 0) #creando un data \n",
        "payments_df.index.name = None\n",
        "payments_df.rename(columns = {'X3': 'Edu', 'X2': 'Gender', 'X4': 'MStatus', 'X5': 'Age', 'X11':'pastPayment', 'X12': 'amountBillStatement','X18': 'amountPreviousPayment', 'X1': 'amountCredit'}, inplace = True)\n",
        "#cambiando de nombre a las columnas\n",
        "df = payments_df.copy() #creando un nuevo df al copiar\n",
        "df.iloc[:, 0:23]\n"
      ]
    },
    {
      "cell_type": "markdown",
      "source": [],
      "metadata": {
        "id": "OOy5fH84zVep"
      }
    },
    {
      "cell_type": "code",
      "source": [
        "import numpy as np\n",
        "from sklearn.decomposition import PCA\n",
        "from sklearn import preprocessing\n",
        "pcs = PCA()\n",
        "#pcs.fit(payments_df.iloc[:, 0:23].dropna(axis=0))\n",
        "#normalize the values in order to make them have same scale\n",
        "pcs.fit(preprocessing.scale(payments_df.iloc[:, 0:23].dropna(axis=0))) \n",
        "pcsSummary_df = pd.DataFrame({'Standard deviation': np.sqrt(pcs.explained_variance_),\n",
        "                             'Proportion of variance': pcs.explained_variance_ratio_,\n",
        "                             'Cumulative proportion': np.cumsum(pcs.explained_variance_ratio_)\n",
        "                             })\n",
        "pcsSummary_df = pcsSummary_df.transpose()\n",
        "pcsSummary_df.columns = ['PC1', 'PC2', 'PC3', 'PC4', 'PC5', 'PC6', 'PC7','PC8','PC9','PC10','PC11','PC12','PC13','PC14','PC15','PC16','PC17','PC19','PC19', 'PC20', 'PC21','PC22','PC23']\n",
        "pcsSummary_df = pcsSummary_df.round(4)\n",
        "pcsSummary_df"
      ],
      "metadata": {
        "colab": {
          "base_uri": "https://localhost:8080/",
          "height": 173
        },
        "id": "IIF5eDnHD0wL",
        "outputId": "89ab506f-a7e8-4749-9f5b-4f2b2ff84ac3"
      },
      "execution_count": null,
      "outputs": [
        {
          "output_type": "execute_result",
          "data": {
            "text/plain": [
              "                           PC1     PC2     PC3     PC4     PC5     PC6  \\\n",
              "Standard deviation      2.5581  2.0243  1.2454  1.2131  1.0128  0.9783   \n",
              "Proportion of variance  0.2845  0.1782  0.0674  0.0640  0.0446  0.0416   \n",
              "Cumulative proportion   0.2845  0.4627  0.5301  0.5941  0.6387  0.6803   \n",
              "\n",
              "                           PC7     PC8     PC9    PC10  ...    PC14    PC15  \\\n",
              "Standard deviation      0.9528  0.9422  0.9335  0.8849  ...  0.7243  0.6354   \n",
              "Proportion of variance  0.0395  0.0386  0.0379  0.0340  ...  0.0228  0.0176   \n",
              "Cumulative proportion   0.7198  0.7584  0.7962  0.8303  ...  0.9394  0.9570   \n",
              "\n",
              "                          PC16    PC17    PC19    PC19    PC20    PC21  \\\n",
              "Standard deviation      0.5097  0.4992  0.4345  0.3632  0.2649  0.2020   \n",
              "Proportion of variance  0.0113  0.0108  0.0082  0.0057  0.0030  0.0018   \n",
              "Cumulative proportion   0.9683  0.9791  0.9873  0.9931  0.9961  0.9979   \n",
              "\n",
              "                          PC22    PC23  \n",
              "Standard deviation      0.1590  0.1524  \n",
              "Proportion of variance  0.0011  0.0010  \n",
              "Cumulative proportion   0.9990  1.0000  \n",
              "\n",
              "[3 rows x 23 columns]"
            ],
            "text/html": [
              "\n",
              "  <div id=\"df-758963ab-883b-4e53-b412-754bb556ecba\">\n",
              "    <div class=\"colab-df-container\">\n",
              "      <div>\n",
              "<style scoped>\n",
              "    .dataframe tbody tr th:only-of-type {\n",
              "        vertical-align: middle;\n",
              "    }\n",
              "\n",
              "    .dataframe tbody tr th {\n",
              "        vertical-align: top;\n",
              "    }\n",
              "\n",
              "    .dataframe thead th {\n",
              "        text-align: right;\n",
              "    }\n",
              "</style>\n",
              "<table border=\"1\" class=\"dataframe\">\n",
              "  <thead>\n",
              "    <tr style=\"text-align: right;\">\n",
              "      <th></th>\n",
              "      <th>PC1</th>\n",
              "      <th>PC2</th>\n",
              "      <th>PC3</th>\n",
              "      <th>PC4</th>\n",
              "      <th>PC5</th>\n",
              "      <th>PC6</th>\n",
              "      <th>PC7</th>\n",
              "      <th>PC8</th>\n",
              "      <th>PC9</th>\n",
              "      <th>PC10</th>\n",
              "      <th>...</th>\n",
              "      <th>PC14</th>\n",
              "      <th>PC15</th>\n",
              "      <th>PC16</th>\n",
              "      <th>PC17</th>\n",
              "      <th>PC19</th>\n",
              "      <th>PC19</th>\n",
              "      <th>PC20</th>\n",
              "      <th>PC21</th>\n",
              "      <th>PC22</th>\n",
              "      <th>PC23</th>\n",
              "    </tr>\n",
              "  </thead>\n",
              "  <tbody>\n",
              "    <tr>\n",
              "      <th>Standard deviation</th>\n",
              "      <td>2.5581</td>\n",
              "      <td>2.0243</td>\n",
              "      <td>1.2454</td>\n",
              "      <td>1.2131</td>\n",
              "      <td>1.0128</td>\n",
              "      <td>0.9783</td>\n",
              "      <td>0.9528</td>\n",
              "      <td>0.9422</td>\n",
              "      <td>0.9335</td>\n",
              "      <td>0.8849</td>\n",
              "      <td>...</td>\n",
              "      <td>0.7243</td>\n",
              "      <td>0.6354</td>\n",
              "      <td>0.5097</td>\n",
              "      <td>0.4992</td>\n",
              "      <td>0.4345</td>\n",
              "      <td>0.3632</td>\n",
              "      <td>0.2649</td>\n",
              "      <td>0.2020</td>\n",
              "      <td>0.1590</td>\n",
              "      <td>0.1524</td>\n",
              "    </tr>\n",
              "    <tr>\n",
              "      <th>Proportion of variance</th>\n",
              "      <td>0.2845</td>\n",
              "      <td>0.1782</td>\n",
              "      <td>0.0674</td>\n",
              "      <td>0.0640</td>\n",
              "      <td>0.0446</td>\n",
              "      <td>0.0416</td>\n",
              "      <td>0.0395</td>\n",
              "      <td>0.0386</td>\n",
              "      <td>0.0379</td>\n",
              "      <td>0.0340</td>\n",
              "      <td>...</td>\n",
              "      <td>0.0228</td>\n",
              "      <td>0.0176</td>\n",
              "      <td>0.0113</td>\n",
              "      <td>0.0108</td>\n",
              "      <td>0.0082</td>\n",
              "      <td>0.0057</td>\n",
              "      <td>0.0030</td>\n",
              "      <td>0.0018</td>\n",
              "      <td>0.0011</td>\n",
              "      <td>0.0010</td>\n",
              "    </tr>\n",
              "    <tr>\n",
              "      <th>Cumulative proportion</th>\n",
              "      <td>0.2845</td>\n",
              "      <td>0.4627</td>\n",
              "      <td>0.5301</td>\n",
              "      <td>0.5941</td>\n",
              "      <td>0.6387</td>\n",
              "      <td>0.6803</td>\n",
              "      <td>0.7198</td>\n",
              "      <td>0.7584</td>\n",
              "      <td>0.7962</td>\n",
              "      <td>0.8303</td>\n",
              "      <td>...</td>\n",
              "      <td>0.9394</td>\n",
              "      <td>0.9570</td>\n",
              "      <td>0.9683</td>\n",
              "      <td>0.9791</td>\n",
              "      <td>0.9873</td>\n",
              "      <td>0.9931</td>\n",
              "      <td>0.9961</td>\n",
              "      <td>0.9979</td>\n",
              "      <td>0.9990</td>\n",
              "      <td>1.0000</td>\n",
              "    </tr>\n",
              "  </tbody>\n",
              "</table>\n",
              "<p>3 rows × 23 columns</p>\n",
              "</div>\n",
              "      <button class=\"colab-df-convert\" onclick=\"convertToInteractive('df-758963ab-883b-4e53-b412-754bb556ecba')\"\n",
              "              title=\"Convert this dataframe to an interactive table.\"\n",
              "              style=\"display:none;\">\n",
              "        \n",
              "  <svg xmlns=\"http://www.w3.org/2000/svg\" height=\"24px\"viewBox=\"0 0 24 24\"\n",
              "       width=\"24px\">\n",
              "    <path d=\"M0 0h24v24H0V0z\" fill=\"none\"/>\n",
              "    <path d=\"M18.56 5.44l.94 2.06.94-2.06 2.06-.94-2.06-.94-.94-2.06-.94 2.06-2.06.94zm-11 1L8.5 8.5l.94-2.06 2.06-.94-2.06-.94L8.5 2.5l-.94 2.06-2.06.94zm10 10l.94 2.06.94-2.06 2.06-.94-2.06-.94-.94-2.06-.94 2.06-2.06.94z\"/><path d=\"M17.41 7.96l-1.37-1.37c-.4-.4-.92-.59-1.43-.59-.52 0-1.04.2-1.43.59L10.3 9.45l-7.72 7.72c-.78.78-.78 2.05 0 2.83L4 21.41c.39.39.9.59 1.41.59.51 0 1.02-.2 1.41-.59l7.78-7.78 2.81-2.81c.8-.78.8-2.07 0-2.86zM5.41 20L4 18.59l7.72-7.72 1.47 1.35L5.41 20z\"/>\n",
              "  </svg>\n",
              "      </button>\n",
              "      \n",
              "  <style>\n",
              "    .colab-df-container {\n",
              "      display:flex;\n",
              "      flex-wrap:wrap;\n",
              "      gap: 12px;\n",
              "    }\n",
              "\n",
              "    .colab-df-convert {\n",
              "      background-color: #E8F0FE;\n",
              "      border: none;\n",
              "      border-radius: 50%;\n",
              "      cursor: pointer;\n",
              "      display: none;\n",
              "      fill: #1967D2;\n",
              "      height: 32px;\n",
              "      padding: 0 0 0 0;\n",
              "      width: 32px;\n",
              "    }\n",
              "\n",
              "    .colab-df-convert:hover {\n",
              "      background-color: #E2EBFA;\n",
              "      box-shadow: 0px 1px 2px rgba(60, 64, 67, 0.3), 0px 1px 3px 1px rgba(60, 64, 67, 0.15);\n",
              "      fill: #174EA6;\n",
              "    }\n",
              "\n",
              "    [theme=dark] .colab-df-convert {\n",
              "      background-color: #3B4455;\n",
              "      fill: #D2E3FC;\n",
              "    }\n",
              "\n",
              "    [theme=dark] .colab-df-convert:hover {\n",
              "      background-color: #434B5C;\n",
              "      box-shadow: 0px 1px 3px 1px rgba(0, 0, 0, 0.15);\n",
              "      filter: drop-shadow(0px 1px 2px rgba(0, 0, 0, 0.3));\n",
              "      fill: #FFFFFF;\n",
              "    }\n",
              "  </style>\n",
              "\n",
              "      <script>\n",
              "        const buttonEl =\n",
              "          document.querySelector('#df-758963ab-883b-4e53-b412-754bb556ecba button.colab-df-convert');\n",
              "        buttonEl.style.display =\n",
              "          google.colab.kernel.accessAllowed ? 'block' : 'none';\n",
              "\n",
              "        async function convertToInteractive(key) {\n",
              "          const element = document.querySelector('#df-758963ab-883b-4e53-b412-754bb556ecba');\n",
              "          const dataTable =\n",
              "            await google.colab.kernel.invokeFunction('convertToInteractive',\n",
              "                                                     [key], {});\n",
              "          if (!dataTable) return;\n",
              "\n",
              "          const docLinkHtml = 'Like what you see? Visit the ' +\n",
              "            '<a target=\"_blank\" href=https://colab.research.google.com/notebooks/data_table.ipynb>data table notebook</a>'\n",
              "            + ' to learn more about interactive tables.';\n",
              "          element.innerHTML = '';\n",
              "          dataTable['output_type'] = 'display_data';\n",
              "          await google.colab.output.renderOutput(dataTable, element);\n",
              "          const docLink = document.createElement('div');\n",
              "          docLink.innerHTML = docLinkHtml;\n",
              "          element.appendChild(docLink);\n",
              "        }\n",
              "      </script>\n",
              "    </div>\n",
              "  </div>\n",
              "  "
            ]
          },
          "metadata": {},
          "execution_count": 3
        }
      ]
    },
    {
      "cell_type": "markdown",
      "source": [
        "Paso 1: Determine el número mínimo de componentes principales que representan la mayor parte de la variación en sus datos"
      ],
      "metadata": {
        "id": "mQ51np1rRk0X"
      }
    },
    {
      "cell_type": "code",
      "source": [
        "((pcsSummary_df.iloc[2][11])*100).round(0)"
      ],
      "metadata": {
        "colab": {
          "base_uri": "https://localhost:8080/"
        },
        "id": "r0q1uScqRmvi",
        "outputId": "6bd4b2dd-bc91-4c6e-fdee-2a6173b11f2b"
      },
      "execution_count": null,
      "outputs": [
        {
          "output_type": "execute_result",
          "data": {
            "text/plain": [
              "89.0"
            ]
          },
          "metadata": {},
          "execution_count": 4
        }
      ]
    },
    {
      "cell_type": "markdown",
      "source": [
        "Se puede ver que para lograr representar el 89% de la varianza podemos usar los componentes que van desde PC1 hasta PC12, serian los primeros 12 componentes."
      ],
      "metadata": {
        "id": "GwMuB8d4VXOl"
      }
    },
    {
      "cell_type": "markdown",
      "source": [
        "**Paso 2: Interprete cada componente principal en términos de las variables originales**\n",
        "\n",
        "Examine la magnitud y la dirección de los coeficientes de las variables originales.\n",
        "Nota: Cuanto mayor sea el valor absoluto del coeficiente, más importante será la variable correspondiente en el cálculo del componente."
      ],
      "metadata": {
        "id": "FrHgOmMKYkZp"
      }
    },
    {
      "cell_type": "code",
      "source": [
        "#get the components\n",
        "pcsComponents_df = pd.DataFrame(pcs.components_.transpose(), \n",
        "                                columns = pcsSummary_df.columns,\n",
        "                                index = payments_df.iloc[:, 0:23].columns\n",
        "                                )\n",
        "pcsComponents_df.round(4)"
      ],
      "metadata": {
        "colab": {
          "base_uri": "https://localhost:8080/",
          "height": 800
        },
        "id": "i7eMWtYOYlyY",
        "outputId": "e425ed0e-acb4-4984-c60c-50f3e2476636"
      },
      "execution_count": null,
      "outputs": [
        {
          "output_type": "execute_result",
          "data": {
            "text/plain": [
              "                          PC1     PC2     PC3     PC4     PC5     PC6     PC7  \\\n",
              "amountCredit           0.0685  0.3164  0.0173  0.0695 -0.1500 -0.3751  0.1066   \n",
              "Gender                -0.0216  0.0302  0.0243 -0.0781  0.8834 -0.3963  0.0652   \n",
              "Edu                    0.0192 -0.0915 -0.3166  0.2465  0.3657  0.5636 -0.4006   \n",
              "MStatus               -0.0056 -0.0430  0.4537 -0.4439 -0.0532  0.2800 -0.1606   \n",
              "Age                    0.0143  0.0667 -0.4630  0.4620 -0.1643 -0.0881  0.0814   \n",
              "X6                     0.1612 -0.2983 -0.0174  0.0164 -0.0355 -0.0391 -0.0867   \n",
              "X7                     0.1942 -0.3349  0.0178  0.0501 -0.0380 -0.0607 -0.0919   \n",
              "X8                     0.2003 -0.3438  0.0615  0.0841 -0.0239 -0.0696 -0.0210   \n",
              "X9                     0.2072 -0.3445  0.0887  0.1092 -0.0079 -0.0873  0.0394   \n",
              "X10                    0.2110 -0.3315  0.1086  0.1154  0.0019 -0.0872  0.1040   \n",
              "pastPayment            0.2064 -0.3057  0.1108  0.1098  0.0125 -0.0915  0.1391   \n",
              "amountBillStatement    0.3344  0.1399 -0.1506 -0.1681 -0.0131  0.0176 -0.0653   \n",
              "X13                    0.3458  0.1403 -0.1269 -0.1495  0.0048  0.0554 -0.0144   \n",
              "X14                    0.3497  0.1463 -0.0838 -0.1048  0.0300  0.0856 -0.0035   \n",
              "X15                    0.3538  0.1455 -0.0704 -0.1007  0.0229  0.0642  0.0658   \n",
              "X16                    0.3517  0.1438 -0.0565 -0.0888  0.0225  0.0249  0.0801   \n",
              "X17                    0.3445  0.1420 -0.0474 -0.0841  0.0106 -0.0218 -0.0500   \n",
              "amountPreviousPayment  0.0942  0.1492  0.2816  0.2806  0.0932  0.2397  0.2028   \n",
              "X19                    0.0786  0.1399  0.3015  0.3117  0.1079  0.2560  0.1032   \n",
              "X20                    0.0863  0.1516  0.2800  0.2787  0.0365  0.1425  0.2266   \n",
              "X21                    0.0778  0.1414  0.2372  0.2369  0.0135 -0.0613  0.0241   \n",
              "X22                    0.0753  0.1371  0.1939  0.1763 -0.0572 -0.2543 -0.7027   \n",
              "X23                    0.0699  0.1294  0.2090  0.2076 -0.0524 -0.1926 -0.3580   \n",
              "\n",
              "                          PC8     PC9    PC10  ...    PC14    PC15    PC16  \\\n",
              "amountCredit          -0.0595  0.0219  0.0173  ... -0.7541 -0.0236  0.0423   \n",
              "Gender                -0.0280  0.0191  0.0240  ...  0.1133  0.0248 -0.0001   \n",
              "Edu                    0.0805 -0.1562  0.0628  ... -0.3728 -0.0359  0.0094   \n",
              "MStatus                0.0263 -0.0565  0.0388  ...  0.1338  0.0060  0.0062   \n",
              "Age                   -0.0127  0.0471  0.0080  ...  0.4326  0.0239  0.0012   \n",
              "X6                     0.0211 -0.0308  0.0034  ... -0.0975 -0.6081 -0.2419   \n",
              "X7                     0.0153 -0.0336  0.0066  ... -0.0834  0.3211  0.5580   \n",
              "X8                    -0.0266 -0.0115 -0.0249  ... -0.0847  0.5417 -0.1058   \n",
              "X9                    -0.0561  0.0446 -0.0570  ... -0.0606  0.1713 -0.5858   \n",
              "X10                   -0.0337  0.0549  0.0668  ... -0.0207 -0.1784 -0.0774   \n",
              "pastPayment            0.0471 -0.0006  0.0141  ...  0.0401 -0.3617  0.5016   \n",
              "amountBillStatement   -0.0230 -0.0647  0.0116  ...  0.0134  0.0749  0.0506   \n",
              "X13                   -0.0760 -0.0457 -0.0369  ...  0.0283  0.0525  0.0267   \n",
              "X14                   -0.1256  0.0800 -0.1221  ...  0.0407  0.0352 -0.0113   \n",
              "X15                   -0.0366  0.0269  0.1236  ...  0.0488 -0.0096 -0.0540   \n",
              "X16                    0.1131 -0.0696 -0.0055  ...  0.0598 -0.0554 -0.0377   \n",
              "X17                    0.1634  0.0803  0.0137  ...  0.0750 -0.0749 -0.0196   \n",
              "amountPreviousPayment -0.2666  0.0369 -0.2368  ... -0.0065 -0.0883  0.0504   \n",
              "X19                   -0.2176  0.3947 -0.2781  ... -0.0060  0.0415  0.0342   \n",
              "X20                    0.2307 -0.0337  0.7849  ...  0.0196  0.0804 -0.0456   \n",
              "X21                    0.6452 -0.4472 -0.4354  ...  0.0420  0.0398 -0.0482   \n",
              "X22                    0.1969  0.4731  0.0559  ...  0.0915 -0.0329  0.0089   \n",
              "X23                   -0.5392 -0.5961  0.1048  ...  0.1428 -0.0397 -0.0079   \n",
              "\n",
              "                         PC17    PC19    PC19    PC20    PC21    PC22    PC23  \n",
              "amountCredit          -0.0252  0.0067  0.0067 -0.0099  0.0145 -0.0006  0.0028  \n",
              "Gender                 0.0211 -0.0038 -0.0020  0.0018 -0.0007 -0.0008  0.0008  \n",
              "Edu                   -0.0406  0.0043  0.0021 -0.0027  0.0006  0.0014  0.0017  \n",
              "MStatus               -0.0143 -0.0056 -0.0008 -0.0025 -0.0002  0.0007 -0.0012  \n",
              "Age                    0.0006 -0.0057 -0.0059  0.0000 -0.0016 -0.0000  0.0002  \n",
              "X6                     0.0166  0.1352 -0.0332 -0.0051 -0.0003 -0.0028  0.0002  \n",
              "X7                    -0.0725 -0.4857  0.1399 -0.0312  0.0127  0.0033 -0.0000  \n",
              "X8                    -0.1569  0.6063 -0.3064  0.0253 -0.0281 -0.0085 -0.0048  \n",
              "X9                     0.0780 -0.2261  0.5676  0.0192  0.0018  0.0140 -0.0014  \n",
              "X10                    0.1456 -0.3858 -0.6742  0.0272  0.0233 -0.0083 -0.0006  \n",
              "pastPayment            0.0521  0.3953  0.3186 -0.0433 -0.0126  0.0002  0.0046  \n",
              "amountBillStatement    0.5489  0.0503  0.0130  0.4148 -0.4324 -0.1840 -0.3176  \n",
              "X13                    0.3707  0.0516 -0.0012  0.0400  0.3436  0.3291  0.6464  \n",
              "X14                    0.1116  0.0393 -0.0180 -0.4835  0.4971 -0.0855 -0.5261  \n",
              "X15                   -0.2010 -0.0410 -0.0088 -0.5215 -0.4885 -0.3632  0.3456  \n",
              "X16                   -0.4094 -0.0574 -0.0164  0.0685 -0.2500  0.7185 -0.2265  \n",
              "X17                   -0.4791 -0.0472  0.0248  0.5138  0.3384 -0.4266  0.0715  \n",
              "amountPreviousPayment -0.0469 -0.0651  0.0187  0.0434 -0.0673 -0.0445 -0.0846  \n",
              "X19                    0.0315  0.0459 -0.0220  0.1466 -0.0707  0.0380  0.1244  \n",
              "X20                    0.1292  0.0283  0.0507  0.0012  0.1235  0.0264 -0.0631  \n",
              "X21                    0.1245 -0.0237 -0.0484 -0.1119  0.0026 -0.0812  0.0421  \n",
              "X22                    0.0662  0.0167  0.0003 -0.1004 -0.0695  0.0950 -0.0082  \n",
              "X23                   -0.0918  0.0052  0.0004  0.0347  0.0274 -0.0173  0.0083  \n",
              "\n",
              "[23 rows x 23 columns]"
            ],
            "text/html": [
              "\n",
              "  <div id=\"df-f6712ba9-2f61-4c7e-bc79-05766d1ca94e\">\n",
              "    <div class=\"colab-df-container\">\n",
              "      <div>\n",
              "<style scoped>\n",
              "    .dataframe tbody tr th:only-of-type {\n",
              "        vertical-align: middle;\n",
              "    }\n",
              "\n",
              "    .dataframe tbody tr th {\n",
              "        vertical-align: top;\n",
              "    }\n",
              "\n",
              "    .dataframe thead th {\n",
              "        text-align: right;\n",
              "    }\n",
              "</style>\n",
              "<table border=\"1\" class=\"dataframe\">\n",
              "  <thead>\n",
              "    <tr style=\"text-align: right;\">\n",
              "      <th></th>\n",
              "      <th>PC1</th>\n",
              "      <th>PC2</th>\n",
              "      <th>PC3</th>\n",
              "      <th>PC4</th>\n",
              "      <th>PC5</th>\n",
              "      <th>PC6</th>\n",
              "      <th>PC7</th>\n",
              "      <th>PC8</th>\n",
              "      <th>PC9</th>\n",
              "      <th>PC10</th>\n",
              "      <th>...</th>\n",
              "      <th>PC14</th>\n",
              "      <th>PC15</th>\n",
              "      <th>PC16</th>\n",
              "      <th>PC17</th>\n",
              "      <th>PC19</th>\n",
              "      <th>PC19</th>\n",
              "      <th>PC20</th>\n",
              "      <th>PC21</th>\n",
              "      <th>PC22</th>\n",
              "      <th>PC23</th>\n",
              "    </tr>\n",
              "  </thead>\n",
              "  <tbody>\n",
              "    <tr>\n",
              "      <th>amountCredit</th>\n",
              "      <td>0.0685</td>\n",
              "      <td>0.3164</td>\n",
              "      <td>0.0173</td>\n",
              "      <td>0.0695</td>\n",
              "      <td>-0.1500</td>\n",
              "      <td>-0.3751</td>\n",
              "      <td>0.1066</td>\n",
              "      <td>-0.0595</td>\n",
              "      <td>0.0219</td>\n",
              "      <td>0.0173</td>\n",
              "      <td>...</td>\n",
              "      <td>-0.7541</td>\n",
              "      <td>-0.0236</td>\n",
              "      <td>0.0423</td>\n",
              "      <td>-0.0252</td>\n",
              "      <td>0.0067</td>\n",
              "      <td>0.0067</td>\n",
              "      <td>-0.0099</td>\n",
              "      <td>0.0145</td>\n",
              "      <td>-0.0006</td>\n",
              "      <td>0.0028</td>\n",
              "    </tr>\n",
              "    <tr>\n",
              "      <th>Gender</th>\n",
              "      <td>-0.0216</td>\n",
              "      <td>0.0302</td>\n",
              "      <td>0.0243</td>\n",
              "      <td>-0.0781</td>\n",
              "      <td>0.8834</td>\n",
              "      <td>-0.3963</td>\n",
              "      <td>0.0652</td>\n",
              "      <td>-0.0280</td>\n",
              "      <td>0.0191</td>\n",
              "      <td>0.0240</td>\n",
              "      <td>...</td>\n",
              "      <td>0.1133</td>\n",
              "      <td>0.0248</td>\n",
              "      <td>-0.0001</td>\n",
              "      <td>0.0211</td>\n",
              "      <td>-0.0038</td>\n",
              "      <td>-0.0020</td>\n",
              "      <td>0.0018</td>\n",
              "      <td>-0.0007</td>\n",
              "      <td>-0.0008</td>\n",
              "      <td>0.0008</td>\n",
              "    </tr>\n",
              "    <tr>\n",
              "      <th>Edu</th>\n",
              "      <td>0.0192</td>\n",
              "      <td>-0.0915</td>\n",
              "      <td>-0.3166</td>\n",
              "      <td>0.2465</td>\n",
              "      <td>0.3657</td>\n",
              "      <td>0.5636</td>\n",
              "      <td>-0.4006</td>\n",
              "      <td>0.0805</td>\n",
              "      <td>-0.1562</td>\n",
              "      <td>0.0628</td>\n",
              "      <td>...</td>\n",
              "      <td>-0.3728</td>\n",
              "      <td>-0.0359</td>\n",
              "      <td>0.0094</td>\n",
              "      <td>-0.0406</td>\n",
              "      <td>0.0043</td>\n",
              "      <td>0.0021</td>\n",
              "      <td>-0.0027</td>\n",
              "      <td>0.0006</td>\n",
              "      <td>0.0014</td>\n",
              "      <td>0.0017</td>\n",
              "    </tr>\n",
              "    <tr>\n",
              "      <th>MStatus</th>\n",
              "      <td>-0.0056</td>\n",
              "      <td>-0.0430</td>\n",
              "      <td>0.4537</td>\n",
              "      <td>-0.4439</td>\n",
              "      <td>-0.0532</td>\n",
              "      <td>0.2800</td>\n",
              "      <td>-0.1606</td>\n",
              "      <td>0.0263</td>\n",
              "      <td>-0.0565</td>\n",
              "      <td>0.0388</td>\n",
              "      <td>...</td>\n",
              "      <td>0.1338</td>\n",
              "      <td>0.0060</td>\n",
              "      <td>0.0062</td>\n",
              "      <td>-0.0143</td>\n",
              "      <td>-0.0056</td>\n",
              "      <td>-0.0008</td>\n",
              "      <td>-0.0025</td>\n",
              "      <td>-0.0002</td>\n",
              "      <td>0.0007</td>\n",
              "      <td>-0.0012</td>\n",
              "    </tr>\n",
              "    <tr>\n",
              "      <th>Age</th>\n",
              "      <td>0.0143</td>\n",
              "      <td>0.0667</td>\n",
              "      <td>-0.4630</td>\n",
              "      <td>0.4620</td>\n",
              "      <td>-0.1643</td>\n",
              "      <td>-0.0881</td>\n",
              "      <td>0.0814</td>\n",
              "      <td>-0.0127</td>\n",
              "      <td>0.0471</td>\n",
              "      <td>0.0080</td>\n",
              "      <td>...</td>\n",
              "      <td>0.4326</td>\n",
              "      <td>0.0239</td>\n",
              "      <td>0.0012</td>\n",
              "      <td>0.0006</td>\n",
              "      <td>-0.0057</td>\n",
              "      <td>-0.0059</td>\n",
              "      <td>0.0000</td>\n",
              "      <td>-0.0016</td>\n",
              "      <td>-0.0000</td>\n",
              "      <td>0.0002</td>\n",
              "    </tr>\n",
              "    <tr>\n",
              "      <th>X6</th>\n",
              "      <td>0.1612</td>\n",
              "      <td>-0.2983</td>\n",
              "      <td>-0.0174</td>\n",
              "      <td>0.0164</td>\n",
              "      <td>-0.0355</td>\n",
              "      <td>-0.0391</td>\n",
              "      <td>-0.0867</td>\n",
              "      <td>0.0211</td>\n",
              "      <td>-0.0308</td>\n",
              "      <td>0.0034</td>\n",
              "      <td>...</td>\n",
              "      <td>-0.0975</td>\n",
              "      <td>-0.6081</td>\n",
              "      <td>-0.2419</td>\n",
              "      <td>0.0166</td>\n",
              "      <td>0.1352</td>\n",
              "      <td>-0.0332</td>\n",
              "      <td>-0.0051</td>\n",
              "      <td>-0.0003</td>\n",
              "      <td>-0.0028</td>\n",
              "      <td>0.0002</td>\n",
              "    </tr>\n",
              "    <tr>\n",
              "      <th>X7</th>\n",
              "      <td>0.1942</td>\n",
              "      <td>-0.3349</td>\n",
              "      <td>0.0178</td>\n",
              "      <td>0.0501</td>\n",
              "      <td>-0.0380</td>\n",
              "      <td>-0.0607</td>\n",
              "      <td>-0.0919</td>\n",
              "      <td>0.0153</td>\n",
              "      <td>-0.0336</td>\n",
              "      <td>0.0066</td>\n",
              "      <td>...</td>\n",
              "      <td>-0.0834</td>\n",
              "      <td>0.3211</td>\n",
              "      <td>0.5580</td>\n",
              "      <td>-0.0725</td>\n",
              "      <td>-0.4857</td>\n",
              "      <td>0.1399</td>\n",
              "      <td>-0.0312</td>\n",
              "      <td>0.0127</td>\n",
              "      <td>0.0033</td>\n",
              "      <td>-0.0000</td>\n",
              "    </tr>\n",
              "    <tr>\n",
              "      <th>X8</th>\n",
              "      <td>0.2003</td>\n",
              "      <td>-0.3438</td>\n",
              "      <td>0.0615</td>\n",
              "      <td>0.0841</td>\n",
              "      <td>-0.0239</td>\n",
              "      <td>-0.0696</td>\n",
              "      <td>-0.0210</td>\n",
              "      <td>-0.0266</td>\n",
              "      <td>-0.0115</td>\n",
              "      <td>-0.0249</td>\n",
              "      <td>...</td>\n",
              "      <td>-0.0847</td>\n",
              "      <td>0.5417</td>\n",
              "      <td>-0.1058</td>\n",
              "      <td>-0.1569</td>\n",
              "      <td>0.6063</td>\n",
              "      <td>-0.3064</td>\n",
              "      <td>0.0253</td>\n",
              "      <td>-0.0281</td>\n",
              "      <td>-0.0085</td>\n",
              "      <td>-0.0048</td>\n",
              "    </tr>\n",
              "    <tr>\n",
              "      <th>X9</th>\n",
              "      <td>0.2072</td>\n",
              "      <td>-0.3445</td>\n",
              "      <td>0.0887</td>\n",
              "      <td>0.1092</td>\n",
              "      <td>-0.0079</td>\n",
              "      <td>-0.0873</td>\n",
              "      <td>0.0394</td>\n",
              "      <td>-0.0561</td>\n",
              "      <td>0.0446</td>\n",
              "      <td>-0.0570</td>\n",
              "      <td>...</td>\n",
              "      <td>-0.0606</td>\n",
              "      <td>0.1713</td>\n",
              "      <td>-0.5858</td>\n",
              "      <td>0.0780</td>\n",
              "      <td>-0.2261</td>\n",
              "      <td>0.5676</td>\n",
              "      <td>0.0192</td>\n",
              "      <td>0.0018</td>\n",
              "      <td>0.0140</td>\n",
              "      <td>-0.0014</td>\n",
              "    </tr>\n",
              "    <tr>\n",
              "      <th>X10</th>\n",
              "      <td>0.2110</td>\n",
              "      <td>-0.3315</td>\n",
              "      <td>0.1086</td>\n",
              "      <td>0.1154</td>\n",
              "      <td>0.0019</td>\n",
              "      <td>-0.0872</td>\n",
              "      <td>0.1040</td>\n",
              "      <td>-0.0337</td>\n",
              "      <td>0.0549</td>\n",
              "      <td>0.0668</td>\n",
              "      <td>...</td>\n",
              "      <td>-0.0207</td>\n",
              "      <td>-0.1784</td>\n",
              "      <td>-0.0774</td>\n",
              "      <td>0.1456</td>\n",
              "      <td>-0.3858</td>\n",
              "      <td>-0.6742</td>\n",
              "      <td>0.0272</td>\n",
              "      <td>0.0233</td>\n",
              "      <td>-0.0083</td>\n",
              "      <td>-0.0006</td>\n",
              "    </tr>\n",
              "    <tr>\n",
              "      <th>pastPayment</th>\n",
              "      <td>0.2064</td>\n",
              "      <td>-0.3057</td>\n",
              "      <td>0.1108</td>\n",
              "      <td>0.1098</td>\n",
              "      <td>0.0125</td>\n",
              "      <td>-0.0915</td>\n",
              "      <td>0.1391</td>\n",
              "      <td>0.0471</td>\n",
              "      <td>-0.0006</td>\n",
              "      <td>0.0141</td>\n",
              "      <td>...</td>\n",
              "      <td>0.0401</td>\n",
              "      <td>-0.3617</td>\n",
              "      <td>0.5016</td>\n",
              "      <td>0.0521</td>\n",
              "      <td>0.3953</td>\n",
              "      <td>0.3186</td>\n",
              "      <td>-0.0433</td>\n",
              "      <td>-0.0126</td>\n",
              "      <td>0.0002</td>\n",
              "      <td>0.0046</td>\n",
              "    </tr>\n",
              "    <tr>\n",
              "      <th>amountBillStatement</th>\n",
              "      <td>0.3344</td>\n",
              "      <td>0.1399</td>\n",
              "      <td>-0.1506</td>\n",
              "      <td>-0.1681</td>\n",
              "      <td>-0.0131</td>\n",
              "      <td>0.0176</td>\n",
              "      <td>-0.0653</td>\n",
              "      <td>-0.0230</td>\n",
              "      <td>-0.0647</td>\n",
              "      <td>0.0116</td>\n",
              "      <td>...</td>\n",
              "      <td>0.0134</td>\n",
              "      <td>0.0749</td>\n",
              "      <td>0.0506</td>\n",
              "      <td>0.5489</td>\n",
              "      <td>0.0503</td>\n",
              "      <td>0.0130</td>\n",
              "      <td>0.4148</td>\n",
              "      <td>-0.4324</td>\n",
              "      <td>-0.1840</td>\n",
              "      <td>-0.3176</td>\n",
              "    </tr>\n",
              "    <tr>\n",
              "      <th>X13</th>\n",
              "      <td>0.3458</td>\n",
              "      <td>0.1403</td>\n",
              "      <td>-0.1269</td>\n",
              "      <td>-0.1495</td>\n",
              "      <td>0.0048</td>\n",
              "      <td>0.0554</td>\n",
              "      <td>-0.0144</td>\n",
              "      <td>-0.0760</td>\n",
              "      <td>-0.0457</td>\n",
              "      <td>-0.0369</td>\n",
              "      <td>...</td>\n",
              "      <td>0.0283</td>\n",
              "      <td>0.0525</td>\n",
              "      <td>0.0267</td>\n",
              "      <td>0.3707</td>\n",
              "      <td>0.0516</td>\n",
              "      <td>-0.0012</td>\n",
              "      <td>0.0400</td>\n",
              "      <td>0.3436</td>\n",
              "      <td>0.3291</td>\n",
              "      <td>0.6464</td>\n",
              "    </tr>\n",
              "    <tr>\n",
              "      <th>X14</th>\n",
              "      <td>0.3497</td>\n",
              "      <td>0.1463</td>\n",
              "      <td>-0.0838</td>\n",
              "      <td>-0.1048</td>\n",
              "      <td>0.0300</td>\n",
              "      <td>0.0856</td>\n",
              "      <td>-0.0035</td>\n",
              "      <td>-0.1256</td>\n",
              "      <td>0.0800</td>\n",
              "      <td>-0.1221</td>\n",
              "      <td>...</td>\n",
              "      <td>0.0407</td>\n",
              "      <td>0.0352</td>\n",
              "      <td>-0.0113</td>\n",
              "      <td>0.1116</td>\n",
              "      <td>0.0393</td>\n",
              "      <td>-0.0180</td>\n",
              "      <td>-0.4835</td>\n",
              "      <td>0.4971</td>\n",
              "      <td>-0.0855</td>\n",
              "      <td>-0.5261</td>\n",
              "    </tr>\n",
              "    <tr>\n",
              "      <th>X15</th>\n",
              "      <td>0.3538</td>\n",
              "      <td>0.1455</td>\n",
              "      <td>-0.0704</td>\n",
              "      <td>-0.1007</td>\n",
              "      <td>0.0229</td>\n",
              "      <td>0.0642</td>\n",
              "      <td>0.0658</td>\n",
              "      <td>-0.0366</td>\n",
              "      <td>0.0269</td>\n",
              "      <td>0.1236</td>\n",
              "      <td>...</td>\n",
              "      <td>0.0488</td>\n",
              "      <td>-0.0096</td>\n",
              "      <td>-0.0540</td>\n",
              "      <td>-0.2010</td>\n",
              "      <td>-0.0410</td>\n",
              "      <td>-0.0088</td>\n",
              "      <td>-0.5215</td>\n",
              "      <td>-0.4885</td>\n",
              "      <td>-0.3632</td>\n",
              "      <td>0.3456</td>\n",
              "    </tr>\n",
              "    <tr>\n",
              "      <th>X16</th>\n",
              "      <td>0.3517</td>\n",
              "      <td>0.1438</td>\n",
              "      <td>-0.0565</td>\n",
              "      <td>-0.0888</td>\n",
              "      <td>0.0225</td>\n",
              "      <td>0.0249</td>\n",
              "      <td>0.0801</td>\n",
              "      <td>0.1131</td>\n",
              "      <td>-0.0696</td>\n",
              "      <td>-0.0055</td>\n",
              "      <td>...</td>\n",
              "      <td>0.0598</td>\n",
              "      <td>-0.0554</td>\n",
              "      <td>-0.0377</td>\n",
              "      <td>-0.4094</td>\n",
              "      <td>-0.0574</td>\n",
              "      <td>-0.0164</td>\n",
              "      <td>0.0685</td>\n",
              "      <td>-0.2500</td>\n",
              "      <td>0.7185</td>\n",
              "      <td>-0.2265</td>\n",
              "    </tr>\n",
              "    <tr>\n",
              "      <th>X17</th>\n",
              "      <td>0.3445</td>\n",
              "      <td>0.1420</td>\n",
              "      <td>-0.0474</td>\n",
              "      <td>-0.0841</td>\n",
              "      <td>0.0106</td>\n",
              "      <td>-0.0218</td>\n",
              "      <td>-0.0500</td>\n",
              "      <td>0.1634</td>\n",
              "      <td>0.0803</td>\n",
              "      <td>0.0137</td>\n",
              "      <td>...</td>\n",
              "      <td>0.0750</td>\n",
              "      <td>-0.0749</td>\n",
              "      <td>-0.0196</td>\n",
              "      <td>-0.4791</td>\n",
              "      <td>-0.0472</td>\n",
              "      <td>0.0248</td>\n",
              "      <td>0.5138</td>\n",
              "      <td>0.3384</td>\n",
              "      <td>-0.4266</td>\n",
              "      <td>0.0715</td>\n",
              "    </tr>\n",
              "    <tr>\n",
              "      <th>amountPreviousPayment</th>\n",
              "      <td>0.0942</td>\n",
              "      <td>0.1492</td>\n",
              "      <td>0.2816</td>\n",
              "      <td>0.2806</td>\n",
              "      <td>0.0932</td>\n",
              "      <td>0.2397</td>\n",
              "      <td>0.2028</td>\n",
              "      <td>-0.2666</td>\n",
              "      <td>0.0369</td>\n",
              "      <td>-0.2368</td>\n",
              "      <td>...</td>\n",
              "      <td>-0.0065</td>\n",
              "      <td>-0.0883</td>\n",
              "      <td>0.0504</td>\n",
              "      <td>-0.0469</td>\n",
              "      <td>-0.0651</td>\n",
              "      <td>0.0187</td>\n",
              "      <td>0.0434</td>\n",
              "      <td>-0.0673</td>\n",
              "      <td>-0.0445</td>\n",
              "      <td>-0.0846</td>\n",
              "    </tr>\n",
              "    <tr>\n",
              "      <th>X19</th>\n",
              "      <td>0.0786</td>\n",
              "      <td>0.1399</td>\n",
              "      <td>0.3015</td>\n",
              "      <td>0.3117</td>\n",
              "      <td>0.1079</td>\n",
              "      <td>0.2560</td>\n",
              "      <td>0.1032</td>\n",
              "      <td>-0.2176</td>\n",
              "      <td>0.3947</td>\n",
              "      <td>-0.2781</td>\n",
              "      <td>...</td>\n",
              "      <td>-0.0060</td>\n",
              "      <td>0.0415</td>\n",
              "      <td>0.0342</td>\n",
              "      <td>0.0315</td>\n",
              "      <td>0.0459</td>\n",
              "      <td>-0.0220</td>\n",
              "      <td>0.1466</td>\n",
              "      <td>-0.0707</td>\n",
              "      <td>0.0380</td>\n",
              "      <td>0.1244</td>\n",
              "    </tr>\n",
              "    <tr>\n",
              "      <th>X20</th>\n",
              "      <td>0.0863</td>\n",
              "      <td>0.1516</td>\n",
              "      <td>0.2800</td>\n",
              "      <td>0.2787</td>\n",
              "      <td>0.0365</td>\n",
              "      <td>0.1425</td>\n",
              "      <td>0.2266</td>\n",
              "      <td>0.2307</td>\n",
              "      <td>-0.0337</td>\n",
              "      <td>0.7849</td>\n",
              "      <td>...</td>\n",
              "      <td>0.0196</td>\n",
              "      <td>0.0804</td>\n",
              "      <td>-0.0456</td>\n",
              "      <td>0.1292</td>\n",
              "      <td>0.0283</td>\n",
              "      <td>0.0507</td>\n",
              "      <td>0.0012</td>\n",
              "      <td>0.1235</td>\n",
              "      <td>0.0264</td>\n",
              "      <td>-0.0631</td>\n",
              "    </tr>\n",
              "    <tr>\n",
              "      <th>X21</th>\n",
              "      <td>0.0778</td>\n",
              "      <td>0.1414</td>\n",
              "      <td>0.2372</td>\n",
              "      <td>0.2369</td>\n",
              "      <td>0.0135</td>\n",
              "      <td>-0.0613</td>\n",
              "      <td>0.0241</td>\n",
              "      <td>0.6452</td>\n",
              "      <td>-0.4472</td>\n",
              "      <td>-0.4354</td>\n",
              "      <td>...</td>\n",
              "      <td>0.0420</td>\n",
              "      <td>0.0398</td>\n",
              "      <td>-0.0482</td>\n",
              "      <td>0.1245</td>\n",
              "      <td>-0.0237</td>\n",
              "      <td>-0.0484</td>\n",
              "      <td>-0.1119</td>\n",
              "      <td>0.0026</td>\n",
              "      <td>-0.0812</td>\n",
              "      <td>0.0421</td>\n",
              "    </tr>\n",
              "    <tr>\n",
              "      <th>X22</th>\n",
              "      <td>0.0753</td>\n",
              "      <td>0.1371</td>\n",
              "      <td>0.1939</td>\n",
              "      <td>0.1763</td>\n",
              "      <td>-0.0572</td>\n",
              "      <td>-0.2543</td>\n",
              "      <td>-0.7027</td>\n",
              "      <td>0.1969</td>\n",
              "      <td>0.4731</td>\n",
              "      <td>0.0559</td>\n",
              "      <td>...</td>\n",
              "      <td>0.0915</td>\n",
              "      <td>-0.0329</td>\n",
              "      <td>0.0089</td>\n",
              "      <td>0.0662</td>\n",
              "      <td>0.0167</td>\n",
              "      <td>0.0003</td>\n",
              "      <td>-0.1004</td>\n",
              "      <td>-0.0695</td>\n",
              "      <td>0.0950</td>\n",
              "      <td>-0.0082</td>\n",
              "    </tr>\n",
              "    <tr>\n",
              "      <th>X23</th>\n",
              "      <td>0.0699</td>\n",
              "      <td>0.1294</td>\n",
              "      <td>0.2090</td>\n",
              "      <td>0.2076</td>\n",
              "      <td>-0.0524</td>\n",
              "      <td>-0.1926</td>\n",
              "      <td>-0.3580</td>\n",
              "      <td>-0.5392</td>\n",
              "      <td>-0.5961</td>\n",
              "      <td>0.1048</td>\n",
              "      <td>...</td>\n",
              "      <td>0.1428</td>\n",
              "      <td>-0.0397</td>\n",
              "      <td>-0.0079</td>\n",
              "      <td>-0.0918</td>\n",
              "      <td>0.0052</td>\n",
              "      <td>0.0004</td>\n",
              "      <td>0.0347</td>\n",
              "      <td>0.0274</td>\n",
              "      <td>-0.0173</td>\n",
              "      <td>0.0083</td>\n",
              "    </tr>\n",
              "  </tbody>\n",
              "</table>\n",
              "<p>23 rows × 23 columns</p>\n",
              "</div>\n",
              "      <button class=\"colab-df-convert\" onclick=\"convertToInteractive('df-f6712ba9-2f61-4c7e-bc79-05766d1ca94e')\"\n",
              "              title=\"Convert this dataframe to an interactive table.\"\n",
              "              style=\"display:none;\">\n",
              "        \n",
              "  <svg xmlns=\"http://www.w3.org/2000/svg\" height=\"24px\"viewBox=\"0 0 24 24\"\n",
              "       width=\"24px\">\n",
              "    <path d=\"M0 0h24v24H0V0z\" fill=\"none\"/>\n",
              "    <path d=\"M18.56 5.44l.94 2.06.94-2.06 2.06-.94-2.06-.94-.94-2.06-.94 2.06-2.06.94zm-11 1L8.5 8.5l.94-2.06 2.06-.94-2.06-.94L8.5 2.5l-.94 2.06-2.06.94zm10 10l.94 2.06.94-2.06 2.06-.94-2.06-.94-.94-2.06-.94 2.06-2.06.94z\"/><path d=\"M17.41 7.96l-1.37-1.37c-.4-.4-.92-.59-1.43-.59-.52 0-1.04.2-1.43.59L10.3 9.45l-7.72 7.72c-.78.78-.78 2.05 0 2.83L4 21.41c.39.39.9.59 1.41.59.51 0 1.02-.2 1.41-.59l7.78-7.78 2.81-2.81c.8-.78.8-2.07 0-2.86zM5.41 20L4 18.59l7.72-7.72 1.47 1.35L5.41 20z\"/>\n",
              "  </svg>\n",
              "      </button>\n",
              "      \n",
              "  <style>\n",
              "    .colab-df-container {\n",
              "      display:flex;\n",
              "      flex-wrap:wrap;\n",
              "      gap: 12px;\n",
              "    }\n",
              "\n",
              "    .colab-df-convert {\n",
              "      background-color: #E8F0FE;\n",
              "      border: none;\n",
              "      border-radius: 50%;\n",
              "      cursor: pointer;\n",
              "      display: none;\n",
              "      fill: #1967D2;\n",
              "      height: 32px;\n",
              "      padding: 0 0 0 0;\n",
              "      width: 32px;\n",
              "    }\n",
              "\n",
              "    .colab-df-convert:hover {\n",
              "      background-color: #E2EBFA;\n",
              "      box-shadow: 0px 1px 2px rgba(60, 64, 67, 0.3), 0px 1px 3px 1px rgba(60, 64, 67, 0.15);\n",
              "      fill: #174EA6;\n",
              "    }\n",
              "\n",
              "    [theme=dark] .colab-df-convert {\n",
              "      background-color: #3B4455;\n",
              "      fill: #D2E3FC;\n",
              "    }\n",
              "\n",
              "    [theme=dark] .colab-df-convert:hover {\n",
              "      background-color: #434B5C;\n",
              "      box-shadow: 0px 1px 3px 1px rgba(0, 0, 0, 0.15);\n",
              "      filter: drop-shadow(0px 1px 2px rgba(0, 0, 0, 0.3));\n",
              "      fill: #FFFFFF;\n",
              "    }\n",
              "  </style>\n",
              "\n",
              "      <script>\n",
              "        const buttonEl =\n",
              "          document.querySelector('#df-f6712ba9-2f61-4c7e-bc79-05766d1ca94e button.colab-df-convert');\n",
              "        buttonEl.style.display =\n",
              "          google.colab.kernel.accessAllowed ? 'block' : 'none';\n",
              "\n",
              "        async function convertToInteractive(key) {\n",
              "          const element = document.querySelector('#df-f6712ba9-2f61-4c7e-bc79-05766d1ca94e');\n",
              "          const dataTable =\n",
              "            await google.colab.kernel.invokeFunction('convertToInteractive',\n",
              "                                                     [key], {});\n",
              "          if (!dataTable) return;\n",
              "\n",
              "          const docLinkHtml = 'Like what you see? Visit the ' +\n",
              "            '<a target=\"_blank\" href=https://colab.research.google.com/notebooks/data_table.ipynb>data table notebook</a>'\n",
              "            + ' to learn more about interactive tables.';\n",
              "          element.innerHTML = '';\n",
              "          dataTable['output_type'] = 'display_data';\n",
              "          await google.colab.output.renderOutput(dataTable, element);\n",
              "          const docLink = document.createElement('div');\n",
              "          docLink.innerHTML = docLinkHtml;\n",
              "          element.appendChild(docLink);\n",
              "        }\n",
              "      </script>\n",
              "    </div>\n",
              "  </div>\n",
              "  "
            ]
          },
          "metadata": {},
          "execution_count": 5
        }
      ]
    },
    {
      "cell_type": "code",
      "source": [
        "pcsComponents_df.PC1.nlargest(3) #consulta los componente con mayor peso"
      ],
      "metadata": {
        "colab": {
          "base_uri": "https://localhost:8080/"
        },
        "id": "UFDpggRGeAJy",
        "outputId": "3dd059b1-0eef-4766-9efb-136b5e8b16f7"
      },
      "execution_count": null,
      "outputs": [
        {
          "output_type": "execute_result",
          "data": {
            "text/plain": [
              "X15    0.353848\n",
              "X16    0.351716\n",
              "X14    0.349744\n",
              "Name: PC1, dtype: float64"
            ]
          },
          "metadata": {},
          "execution_count": 6
        }
      ]
    },
    {
      "cell_type": "markdown",
      "source": [
        "**PC1** = Para el primer componente PC1, el estado de la cuenta a pagar para el mes de junio tiene un peso importante junto con el  estado de cuenta a pagar en el mes de mayo y julio\n"
      ],
      "metadata": {
        "id": "ic8VUjOjfWmt"
      }
    },
    {
      "cell_type": "code",
      "source": [
        "pcsComponents_df.PC2.nsmallest(3) "
      ],
      "metadata": {
        "colab": {
          "base_uri": "https://localhost:8080/"
        },
        "id": "DV-vSZokhReL",
        "outputId": "ed033987-6dea-4337-d18b-36f18163d40d"
      },
      "execution_count": null,
      "outputs": [
        {
          "output_type": "execute_result",
          "data": {
            "text/plain": [
              "X9   -0.344508\n",
              "X8   -0.343802\n",
              "X7   -0.334879\n",
              "Name: PC2, dtype: float64"
            ]
          },
          "metadata": {},
          "execution_count": 7
        }
      ]
    },
    {
      "cell_type": "markdown",
      "source": [
        "**PC2** = Para este componente los pocos pagos realizados en el mes de junio, julio y agosto son las variables que mayor peso tienen al momento de realizar en analisis."
      ],
      "metadata": {
        "id": "tRwf5AOkhd1C"
      }
    },
    {
      "cell_type": "code",
      "source": [
        "pcsComponents_df.PC3.nsmallest(3)"
      ],
      "metadata": {
        "colab": {
          "base_uri": "https://localhost:8080/"
        },
        "id": "HhFQei44i1cT",
        "outputId": "1523e559-063c-4389-e4eb-d0124fcba4f8"
      },
      "execution_count": null,
      "outputs": [
        {
          "output_type": "execute_result",
          "data": {
            "text/plain": [
              "Age                   -0.463023\n",
              "Edu                   -0.316638\n",
              "amountBillStatement   -0.150587\n",
              "Name: PC3, dtype: float64"
            ]
          },
          "metadata": {},
          "execution_count": 8
        }
      ]
    },
    {
      "cell_type": "markdown",
      "source": [
        "**PC3** = En este component las personas con baja edad y poca educacion  son las personas que no tienen cuentas tan altas para pagar. "
      ],
      "metadata": {
        "id": "4lY_w2KcjA-e"
      }
    },
    {
      "cell_type": "code",
      "source": [
        "pcsComponents_df.PC4.nlargest(3)"
      ],
      "metadata": {
        "colab": {
          "base_uri": "https://localhost:8080/"
        },
        "id": "-zW4ZA_njcyx",
        "outputId": "341ee645-229f-4a87-8185-6f610ae19041"
      },
      "execution_count": null,
      "outputs": [
        {
          "output_type": "execute_result",
          "data": {
            "text/plain": [
              "Age                      0.462041\n",
              "X19                      0.311715\n",
              "amountPreviousPayment    0.280571\n",
              "Name: PC4, dtype: float64"
            ]
          },
          "metadata": {},
          "execution_count": 9
        }
      ]
    },
    {
      "cell_type": "markdown",
      "source": [
        "**PC4** = Las personas con una edad mas elevada pagaron sus deudas en agosto y septiembre"
      ],
      "metadata": {
        "id": "cT2Mpvw2jqe0"
      }
    },
    {
      "cell_type": "code",
      "source": [
        "pcsComponents_df.PC5.nlargest(3)"
      ],
      "metadata": {
        "colab": {
          "base_uri": "https://localhost:8080/"
        },
        "id": "FIn7IozekNDk",
        "outputId": "c7f561e6-3a37-4638-e01b-23f7fb394fdc"
      },
      "execution_count": null,
      "outputs": [
        {
          "output_type": "execute_result",
          "data": {
            "text/plain": [
              "Gender    0.883357\n",
              "Edu       0.365704\n",
              "X19       0.107895\n",
              "Name: PC5, dtype: float64"
            ]
          },
          "metadata": {},
          "execution_count": 10
        }
      ]
    },
    {
      "cell_type": "markdown",
      "source": [
        "**PC5** = Personas con edad alta, y un nivel medio de educacion pagaron sus deudas en agosto. "
      ],
      "metadata": {
        "id": "E9g0qNamkS8X"
      }
    },
    {
      "cell_type": "code",
      "source": [
        "pcsComponents_df.PC6.nlargest(3)"
      ],
      "metadata": {
        "colab": {
          "base_uri": "https://localhost:8080/"
        },
        "id": "VNtU8Tt3kfSu",
        "outputId": "feda2591-a7de-4f06-86ca-8e57835f0305"
      },
      "execution_count": null,
      "outputs": [
        {
          "output_type": "execute_result",
          "data": {
            "text/plain": [
              "Edu        0.563608\n",
              "MStatus    0.280022\n",
              "X19        0.256009\n",
              "Name: PC6, dtype: float64"
            ]
          },
          "metadata": {},
          "execution_count": 11
        }
      ]
    },
    {
      "cell_type": "markdown",
      "source": [
        "**PC6** = Las personas con buena educacion tienden a pagar sus deudas en agosto. Aca tambien juega un papel importante si la persona esta casada o no."
      ],
      "metadata": {
        "id": "AC-htk-Okqtu"
      }
    },
    {
      "cell_type": "code",
      "source": [
        "pcsComponents_df.PC7.nsmallest(3)"
      ],
      "metadata": {
        "colab": {
          "base_uri": "https://localhost:8080/"
        },
        "id": "7uT2rFYElMJz",
        "outputId": "e36e4d19-22b7-4ef9-8f13-56a2c2b404a3"
      },
      "execution_count": null,
      "outputs": [
        {
          "output_type": "execute_result",
          "data": {
            "text/plain": [
              "X22   -0.702689\n",
              "Edu   -0.400609\n",
              "X23   -0.357965\n",
              "Name: PC7, dtype: float64"
            ]
          },
          "metadata": {},
          "execution_count": 12
        }
      ]
    },
    {
      "cell_type": "markdown",
      "source": [
        "**PC7** = Las personas que no hacen sus pagos en mayo y abril, tienen poca educacion "
      ],
      "metadata": {
        "id": "XFGCMxMdlOK3"
      }
    },
    {
      "cell_type": "code",
      "source": [
        "pcsComponents_df.PC8.nsmallest(3)"
      ],
      "metadata": {
        "colab": {
          "base_uri": "https://localhost:8080/"
        },
        "id": "Np3QEktbliNQ",
        "outputId": "77b50c6e-27f1-45e8-daf7-724fee559de1"
      },
      "execution_count": null,
      "outputs": [
        {
          "output_type": "execute_result",
          "data": {
            "text/plain": [
              "X23                     -0.539231\n",
              "amountPreviousPayment   -0.266552\n",
              "X19                     -0.217601\n",
              "Name: PC8, dtype: float64"
            ]
          },
          "metadata": {},
          "execution_count": 52
        }
      ]
    },
    {
      "cell_type": "markdown",
      "source": [
        "PC8 = Las personas realizaron pocos pagos pasados en los meses de abril, septiembre y agosto."
      ],
      "metadata": {
        "id": "fXpH7DPYlqJ0"
      }
    },
    {
      "cell_type": "code",
      "source": [
        "pcsComponents_df.PC8.nsmallest(3)"
      ],
      "metadata": {
        "colab": {
          "base_uri": "https://localhost:8080/"
        },
        "id": "a_LbhpqSl8hY",
        "outputId": "486b891b-986b-4950-fb2e-9723e54bd137"
      },
      "execution_count": null,
      "outputs": [
        {
          "output_type": "execute_result",
          "data": {
            "text/plain": [
              "X23                     -0.539231\n",
              "amountPreviousPayment   -0.266552\n",
              "X19                     -0.217601\n",
              "Name: PC8, dtype: float64"
            ]
          },
          "metadata": {},
          "execution_count": 53
        }
      ]
    },
    {
      "cell_type": "markdown",
      "source": [
        "**PC9** = Las personas realizaron pocos pagos principalmente en el mes de de abril"
      ],
      "metadata": {
        "id": "mAIa6Kazl-pq"
      }
    },
    {
      "cell_type": "code",
      "source": [
        "pcsComponents_df.PC10.nlargest(3)"
      ],
      "metadata": {
        "colab": {
          "base_uri": "https://localhost:8080/"
        },
        "id": "0ndmeAhmmPdP",
        "outputId": "0ba19072-0e7d-4c67-eff5-0d791994b2d8"
      },
      "execution_count": null,
      "outputs": [
        {
          "output_type": "execute_result",
          "data": {
            "text/plain": [
              "X20    0.784894\n",
              "X15    0.123613\n",
              "X23    0.104824\n",
              "Name: PC10, dtype: float64"
            ]
          },
          "metadata": {},
          "execution_count": 54
        }
      ]
    },
    {
      "cell_type": "markdown",
      "source": [
        "**PC10** = Las personas realizaron sus pagos principalmente en el mes de julio"
      ],
      "metadata": {
        "id": "t9SA-Zc7mazz"
      }
    },
    {
      "cell_type": "code",
      "source": [
        "pcsComponents_df.PC11.nsmallest(3)"
      ],
      "metadata": {
        "colab": {
          "base_uri": "https://localhost:8080/"
        },
        "id": "_oGrdNUZmk0K",
        "outputId": "ec7a669f-320a-45ee-c167-c733f614908c"
      },
      "execution_count": null,
      "outputs": [
        {
          "output_type": "execute_result",
          "data": {
            "text/plain": [
              "amountPreviousPayment   -0.728411\n",
              "X22                     -0.185047\n",
              "X13                     -0.132658\n",
              "Name: PC11, dtype: float64"
            ]
          },
          "metadata": {},
          "execution_count": 55
        }
      ]
    },
    {
      "cell_type": "markdown",
      "source": [
        "**PC11** = Las personas realizaron pocos pagos en septiembre"
      ],
      "metadata": {
        "id": "lwYBREpGmv2K"
      }
    },
    {
      "cell_type": "code",
      "source": [
        "pcsComponents_df.PC12.nlargest(3)"
      ],
      "metadata": {
        "colab": {
          "base_uri": "https://localhost:8080/"
        },
        "id": "xougaxoLm4P6",
        "outputId": "11aaab7d-94e0-4660-e30b-be60fd3096b8"
      },
      "execution_count": null,
      "outputs": [
        {
          "output_type": "execute_result",
          "data": {
            "text/plain": [
              "X6     0.623610\n",
              "X7     0.376411\n",
              "X20    0.141091\n",
              "Name: PC12, dtype: float64"
            ]
          },
          "metadata": {},
          "execution_count": 56
        }
      ]
    },
    {
      "cell_type": "markdown",
      "source": [
        "**PC12** = El estado de los repayment en septiembre y agosto fue alto"
      ],
      "metadata": {
        "id": "UT88XOoxnRaG"
      }
    },
    {
      "cell_type": "code",
      "source": [
        "pcsComponents_df.PC13.nlargest(3)"
      ],
      "metadata": {
        "colab": {
          "base_uri": "https://localhost:8080/"
        },
        "id": "oxvbOviWnZEL",
        "outputId": "d7409ed9-6564-40a1-a78f-9765184f9494"
      },
      "execution_count": null,
      "outputs": [
        {
          "output_type": "execute_result",
          "data": {
            "text/plain": [
              "MStatus         0.666526\n",
              "Age             0.577125\n",
              "amountCredit    0.359992\n",
              "Name: PC13, dtype: float64"
            ]
          },
          "metadata": {},
          "execution_count": 57
        }
      ]
    },
    {
      "cell_type": "markdown",
      "source": [
        "**PC13** = El marital status junto con las personas adultas demuestra que estas tienen un credito monetario medianamente alto. "
      ],
      "metadata": {
        "id": "KTjRC05QnqX-"
      }
    },
    {
      "cell_type": "code",
      "source": [
        "pcsComponents_df.PC14.nsmallest(3)"
      ],
      "metadata": {
        "colab": {
          "base_uri": "https://localhost:8080/"
        },
        "id": "hdQ-3CKqn8tZ",
        "outputId": "2227ca7d-3632-47c4-fedc-7d1e39b37730"
      },
      "execution_count": null,
      "outputs": [
        {
          "output_type": "execute_result",
          "data": {
            "text/plain": [
              "amountCredit   -0.754050\n",
              "Edu            -0.372845\n",
              "X6             -0.097477\n",
              "Name: PC14, dtype: float64"
            ]
          },
          "metadata": {},
          "execution_count": 58
        }
      ]
    },
    {
      "cell_type": "markdown",
      "source": [
        "**PC14** = El monto de dinero prestado es bajo para personas con poca educacion  "
      ],
      "metadata": {
        "id": "KnEQhiXkoCWm"
      }
    },
    {
      "cell_type": "code",
      "source": [
        "import seaborn as sns\n",
        "p = sns.regplot(data = df,  \n",
        "                x = df.amountCredit, \n",
        "                y = df.Age\n",
        "               ) \n",
        "p"
      ],
      "metadata": {
        "colab": {
          "base_uri": "https://localhost:8080/",
          "height": 297
        },
        "id": "EARm2DFapNuQ",
        "outputId": "77b4b97e-4b16-4cff-da45-94c9f5112753"
      },
      "execution_count": null,
      "outputs": [
        {
          "output_type": "execute_result",
          "data": {
            "text/plain": [
              "<matplotlib.axes._subplots.AxesSubplot at 0x7f1b4f413750>"
            ]
          },
          "metadata": {},
          "execution_count": 67
        },
        {
          "output_type": "display_data",
          "data": {
            "text/plain": [
              "<Figure size 432x288 with 1 Axes>"
            ],
            "image/png": "[encoded data removed]"
          },
          "metadata": {
            "needs_background": "light"
          }
        }
      ]
    },
    {
      "cell_type": "markdown",
      "source": [
        "En el grafico se puede ver por ejemplo que un valor atipico es que se da un credito alto a una persona mayor de aproximadamente 80 años.\n",
        "En general se puede ver en el grafico que no es comun dar creditos medianamente altos a personas con edad avanzada."
      ],
      "metadata": {
        "id": "MecmaG4HrbGL"
      }
    },
    {
      "cell_type": "code",
      "source": [
        "p = sns.regplot(data = df,  \n",
        "                x = df.X19, \n",
        "                y = df.Age\n",
        "               ) \n",
        "p"
      ],
      "metadata": {
        "colab": {
          "base_uri": "https://localhost:8080/",
          "height": 297
        },
        "id": "K5NZJY6nr0cj",
        "outputId": "7baf29bc-833a-4b9b-e4a8-53362fcffc9d"
      },
      "execution_count": null,
      "outputs": [
        {
          "output_type": "execute_result",
          "data": {
            "text/plain": [
              "<matplotlib.axes._subplots.AxesSubplot at 0x7f1b4e7cdb10>"
            ]
          },
          "metadata": {},
          "execution_count": 70
        },
        {
          "output_type": "display_data",
          "data": {
            "text/plain": [
              "<Figure size 432x288 with 1 Axes>"
            ],
            "image/png": "[encoded data removed]"
          },
          "metadata": {
            "needs_background": "light"
          }
        }
      ]
    },
    {
      "cell_type": "markdown",
      "source": [
        "En el grafico se puede apreciar que las personas con edad avanzada realizaron pagos en agosto pero no son pagos muy elevados. Ademas existen personas que realizaron pagos grandes en el mes de agosto y que tienen una edad que no supera los 40 años."
      ],
      "metadata": {
        "id": "VdoNhhUAtBzl"
      }
    },
    {
      "cell_type": "markdown",
      "source": [
        "**¿Cuál es el número de componentes mínimo y por qué?**\n",
        "Tenemos 23 componentes pero de estos si usamos los 12 primeros componentes  se logra obtener un 89% de la variabilidad. Esto significa que por lo cual podemos dejar de lado los otros 11 componentes y enfocarnos solamente en los 12 primeros valores. \n",
        "\n",
        "**¿Cuál es la variación de los datos que representan esos componentes?**\n",
        "PC1_proportion_variance = 0.2845\n",
        "PC2_proportion_variance = 0.1782\n",
        "PC3_proportion_variance = 0.0674\n",
        "PC4_proportion_variance = 0.064\n",
        "PC5_proportion_variance = 0.0446\n",
        "PC6_proportion_variance = 0.0416\n",
        "PC7_proportion_variance = 0.0395\n",
        "PC8_proportion_variance = 0.0386\n",
        "PC9_proportion_variance = 0.0379\n",
        "PC10_proportion_variance = 0.034\n",
        "PC11_proportion_variance = 0.0319\n",
        "PC12_proportion_variance = 0.0297\n",
        "\n",
        "**¿Cuál es la pérdida de información después de realizar PCA?**\n",
        "Despues de realizar PCA y elegir los primeros 12 componentes, la variabilidad que se esta perdiendo es de un 11%\n",
        "\n",
        "**De las variables originales, ¿Cuál tiene mayor y cuál tiene menor importancia en los componentes principales?**\n",
        "PC1 = El estado de la cuenta a pagar para el mes de junio tiene la mayor importancia y el de menor importancia es el marital status.\n",
        "PC2 = Pagos pasados en el mes de junio es la variable de mayor importancia. Y el marital status tiene menor importancia.\n",
        "PC3 = La edad es la variable mas importante, mientras que el pago pasado en el mes de septiembre es la de menor peso.\n",
        "PC4 = La edad es la variable de mayor peso y la de menor peso es es el pago realizado en septiembre.\n",
        "PC5 = La variable de mayor peso es el genero mientras que la de menor importancia es el pago pasado en el mes de mayo. "
      ],
      "metadata": {
        "id": "2ooVVDcRw3te"
      }
    },
    {
      "cell_type": "code",
      "source": [
        "pcsComponents_df.PC6.abs().idxmin()"
      ],
      "metadata": {
        "colab": {
          "base_uri": "https://localhost:8080/",
          "height": 35
        },
        "id": "sSo9Lm88oowx",
        "outputId": "f3095bfa-a8a4-4a53-f1f6-9de0788b163a"
      },
      "execution_count": null,
      "outputs": [
        {
          "output_type": "execute_result",
          "data": {
            "text/plain": [
              "'amountBillStatement'"
            ],
            "application/vnd.google.colaboratory.intrinsic+json": {
              "type": "string"
            }
          },
          "metadata": {},
          "execution_count": 17
        }
      ]
    },
    {
      "cell_type": "markdown",
      "source": [
        "PC6 = La variable educacion tiene mayor importancia mientras que el importe de la factura en septiembre es la variable de menor importancia.\n"
      ],
      "metadata": {
        "id": "jwYMIz6EpiY4"
      }
    },
    {
      "cell_type": "code",
      "source": [
        "pcsComponents_df.PC7.abs().idxmin()"
      ],
      "metadata": {
        "colab": {
          "base_uri": "https://localhost:8080/",
          "height": 35
        },
        "id": "cb7KQadaqXtL",
        "outputId": "10b3535b-8b56-4175-fa32-acd1142c6a7d"
      },
      "execution_count": null,
      "outputs": [
        {
          "output_type": "execute_result",
          "data": {
            "text/plain": [
              "'X14'"
            ],
            "application/vnd.google.colaboratory.intrinsic+json": {
              "type": "string"
            }
          },
          "metadata": {},
          "execution_count": 18
        }
      ]
    },
    {
      "cell_type": "markdown",
      "source": [
        "PC7 = La variable de menor importancia es el importe de la factura mes julio. La mas importante es pagos realizados en mayo."
      ],
      "metadata": {
        "id": "ASqJ8RjfqvIL"
      }
    },
    {
      "cell_type": "code",
      "source": [
        "pcsComponents_df.PC8.abs().idxmin()"
      ],
      "metadata": {
        "colab": {
          "base_uri": "https://localhost:8080/",
          "height": 35
        },
        "id": "hmeip7hVrIPb",
        "outputId": "9b8b76d5-9768-42dd-d1ce-813c5a070437"
      },
      "execution_count": null,
      "outputs": [
        {
          "output_type": "execute_result",
          "data": {
            "text/plain": [
              "'Age'"
            ],
            "application/vnd.google.colaboratory.intrinsic+json": {
              "type": "string"
            }
          },
          "metadata": {},
          "execution_count": 19
        }
      ]
    },
    {
      "cell_type": "markdown",
      "source": [
        "PC8 =  Variable de mayor peso es la de pagos pasados en  abril mientras que la menos importante es la edad"
      ],
      "metadata": {
        "id": "SvyYuLlFrf0g"
      }
    },
    {
      "cell_type": "code",
      "source": [
        "pcsComponents_df.PC9.abs().idxmin()"
      ],
      "metadata": {
        "colab": {
          "base_uri": "https://localhost:8080/",
          "height": 35
        },
        "id": "zNX2JoybrizZ",
        "outputId": "b7eebabd-05cf-4484-eef5-f5f6e6df5cb9"
      },
      "execution_count": null,
      "outputs": [
        {
          "output_type": "execute_result",
          "data": {
            "text/plain": [
              "'pastPayment'"
            ],
            "application/vnd.google.colaboratory.intrinsic+json": {
              "type": "string"
            }
          },
          "metadata": {},
          "execution_count": 20
        }
      ]
    },
    {
      "cell_type": "markdown",
      "source": [
        "PC9 = El status del payment en abril es la variable menos importante y la de mayor peso es pagos realizados en abril."
      ],
      "metadata": {
        "id": "jz5siw-SrsaX"
      }
    },
    {
      "cell_type": "code",
      "source": [
        "pcsComponents_df.PC10.abs().idxmin()"
      ],
      "metadata": {
        "colab": {
          "base_uri": "https://localhost:8080/",
          "height": 35
        },
        "id": "P0EBsUYlsNVN",
        "outputId": "4c0de5cb-885b-4899-adbb-f27043792777"
      },
      "execution_count": null,
      "outputs": [
        {
          "output_type": "execute_result",
          "data": {
            "text/plain": [
              "'X6'"
            ],
            "application/vnd.google.colaboratory.intrinsic+json": {
              "type": "string"
            }
          },
          "metadata": {},
          "execution_count": 21
        }
      ]
    },
    {
      "cell_type": "markdown",
      "source": [
        "PC10 = La variable menos importante es el status del pago en septiembre y la de mayor peso son los pagos realizados en julio."
      ],
      "metadata": {
        "id": "FyQItNQisZNU"
      }
    },
    {
      "cell_type": "code",
      "source": [
        "pcsComponents_df.PC11.abs().idxmin()"
      ],
      "metadata": {
        "colab": {
          "base_uri": "https://localhost:8080/",
          "height": 35
        },
        "id": "REnf5uDksrr1",
        "outputId": "f81288ea-d371-4113-d8ee-55003585d152"
      },
      "execution_count": null,
      "outputs": [
        {
          "output_type": "execute_result",
          "data": {
            "text/plain": [
              "'Edu'"
            ],
            "application/vnd.google.colaboratory.intrinsic+json": {
              "type": "string"
            }
          },
          "metadata": {},
          "execution_count": 22
        }
      ]
    },
    {
      "cell_type": "markdown",
      "source": [
        "PC11 = Variable mas importante: pagos hechos en septiembre. Variable menos importante es educacion."
      ],
      "metadata": {
        "id": "h1EZu14gs-aw"
      }
    },
    {
      "cell_type": "code",
      "source": [
        "pcsComponents_df.PC12.abs().idxmin()"
      ],
      "metadata": {
        "colab": {
          "base_uri": "https://localhost:8080/",
          "height": 35
        },
        "id": "Q7dhMvDatZak",
        "outputId": "1cd74abf-05d2-4f09-b5a2-8bf9a9b9ddc2"
      },
      "execution_count": null,
      "outputs": [
        {
          "output_type": "execute_result",
          "data": {
            "text/plain": [
              "'X14'"
            ],
            "application/vnd.google.colaboratory.intrinsic+json": {
              "type": "string"
            }
          },
          "metadata": {},
          "execution_count": 23
        }
      ]
    },
    {
      "cell_type": "markdown",
      "source": [
        "PC12 = variable mas importante es el status del pago en septiembre mientras que la de menor valor es el importe de la factura en julio"
      ],
      "metadata": {
        "id": "4PiDbNodtkdE"
      }
    },
    {
      "cell_type": "markdown",
      "source": [
        "**¿Cuándo se recomienda realizar un PCA y qué beneficios ofrece para Machine Learning?**\n",
        "PCA es particularmente util al momento de procesar los datos donde existe una multi colinealidad entre las variables. PCA se puede usar cuando la dimensiones de las variables es muy larga. Por ejemplo para el caso analizado en esta tarea se puede apreciar que existen 23 variables numericas por lo cual usar PCA puede resultar de mucha utilidad.\n",
        "Un beneficio es de que al reducir la dimension se eliminan datos que no son importantes y esto acelera la velocidad de procesamiento del algoritmo que se use para analizar la informacion.\n",
        "\n"
      ],
      "metadata": {
        "id": "oK3v5yVBuJBM"
      }
    }
  ]
}