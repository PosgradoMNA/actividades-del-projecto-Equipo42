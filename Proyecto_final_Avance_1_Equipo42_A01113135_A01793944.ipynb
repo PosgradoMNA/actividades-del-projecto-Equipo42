{
  "nbformat": 4,
  "nbformat_minor": 0,
  "metadata": {
    "colab": {
      "provenance": [],
      "authorship_tag": "ABX9TyO670YpVCMj/lDmFcxAd52+",
      "include_colab_link": true
    },
    "kernelspec": {
      "name": "python3",
      "display_name": "Python 3"
    },
    "language_info": {
      "name": "python"
    }
  },
  "cells": [
    {
      "cell_type": "markdown",
      "metadata": {
        "id": "view-in-github",
        "colab_type": "text"
      },
      "source": [
        "<a href=\"https://colab.research.google.com/github/PosgradoMNA/actividades-del-projecto-Equipo42/blob/main/Proyecto_final_Avance_1_Equipo42_A01113135_A01793944.ipynb\" target=\"_parent\"><img src=\"https://colab.research.google.com/assets/colab-badge.svg\" alt=\"Open In Colab\"/></a>"
      ]
    },
    {
      "cell_type": "code",
      "execution_count": 1,
      "metadata": {
        "colab": {
          "base_uri": "https://localhost:8080/"
        },
        "id": "YnK59QjUFUwt",
        "outputId": "c3a8ed8d-38e2-41fc-8b90-c8049f9c00bb"
      },
      "outputs": [
        {
          "output_type": "stream",
          "name": "stdout",
          "text": [
            "Object `identificó` not found.\n"
          ]
        }
      ],
      "source": [
        "Nombre: Airbnb en New York\n",
        "La organización que lo generó: Inside Airbnb\n",
        "Link: https://www.kaggle.com/datasets/dgomonov/new-york-city-airbnb-open-data?select=AB_NYC_2019.csv\n",
        "Describe el conjunto de datos:\n",
        "\n",
        "ID - Código unico de indentificación para cada propiedad\n",
        "Name - Nombre asignado por el propietario\n",
        "Host_id - Código unico para el anfitrión \n",
        "Host_name - Nombre del anfitrión\n",
        "Neighbourhoud_group - clasifaca el barrio principal\n",
        "Neighbourhoud - Segunda grando de clasificación del barrio\n",
        "Latitude  - coordenada de ubicación\n",
        "Longitude - coordenada de ubicación\n",
        "Room_type - Tipo de habitación que ofece el host\n",
        "Price - valor monetario en dolares\n",
        "\n",
        "\n",
        "¿Cuáles son algunas de las preguntas de investigación que podría responder con estos datos? Enumere al menos OCHO (no responda las preguntas).\n",
        "\n",
        "¿Cuántos propietarios tiene más de una habitación en alquiler?\n",
        "¿Cuál es Barrio principal con el mayor número de habitación en alquiler?\n",
        "¿Cuál es el barrio más caro?\n",
        "¿Qué tipo de habitación es el más cómun en New York?\n",
        "¿Qué palabras se utilizan con mayor frecuencia en el nombre de la propiedad?\n",
        "¿Qué relación tienen las palabras utilizadas en el nombre de propiedad con el precio?\n",
        "¿Qué rangos de precios tiene cada tipo de habitación?\n",
        "¿Qué rangos de precios tiene cada barrio?\n",
        "\n",
        "¿Qué actor (empresa, sector de la sociedad, organismo descentralizado, gobierno, etc.) estaría interesado en las preguntas mencionadas que identificó?\n",
        "Departamento de turismo de New York, cadenas hoteleras, organizaciones de gobiernos de New York, inversionista interesados en la compra propiedades y ciudadano cómun de New York"
      ]
    }
  ]
}