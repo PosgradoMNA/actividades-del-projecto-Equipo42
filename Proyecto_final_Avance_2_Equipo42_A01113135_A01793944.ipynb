{
  "nbformat": 4,
  "nbformat_minor": 0,
  "metadata": {
    "colab": {
      "provenance": [],
      "authorship_tag": "ABX9TyM6MdiqnvwqpLXVQwXI31qj",
      "include_colab_link": true
    },
    "kernelspec": {
      "name": "python3",
      "display_name": "Python 3"
    },
    "language_info": {
      "name": "python"
    }
  },
  "cells": [
    {
      "cell_type": "markdown",
      "metadata": {
        "id": "view-in-github",
        "colab_type": "text"
      },
      "source": [
        "<a href=\"https://colab.research.google.com/github/PosgradoMNA/actividades-del-projecto-Equipo42/blob/main/Proyecto_final_Avance_2_Equipo42_A01113135_A01793944.ipynb\" target=\"_parent\"><img src=\"https://colab.research.google.com/assets/colab-badge.svg\" alt=\"Open In Colab\"/></a>"
      ]
    },
    {
      "cell_type": "code",
      "execution_count": null,
      "metadata": {
        "id": "fu3r9Ym1MmD_"
      },
      "outputs": [],
      "source": [
        "Metodologia CRISP DM\n",
        "1.- Entendimiento de la necesidad de negocio: Determinar los objetivos y necesidad del negocio. Es importante entender a que tipo de información tendremos acceso y los medios. Determinar la tecnología y herramientas a utilizar. \n",
        "2.- Entendimiento de la información: Adquirir la información necesario, describir las variables a examinar. Realizar una exploración de la data y verificiar si la información es de calidad.\n",
        "3.- Preparación de la información: Seleccionar la data estará siendo utilizada, eliminar aquella información que contamine nuestro dataset, construir e integrar nueva data para contar con mayor información y determinar el formato de data a utilizar.\n",
        "4.- Modelado: Determinar el tipo de algoritmo utilizar, probar y evaluar el modelo generado por medio de iteraciones hasta llegar a un modelo que mejor adapte a la data.\n",
        "5.- Evaluación: Esta etapa permite determinar si los modelos complen con los objetivos del negocio, revisar si las etapas fueron ejecutada con éxito, realizar la documentación de los descubrimientos y determinar los siguientes pasos que surgen del análiss.\n",
        "6.- Deployment: Es la etapa en la que el cliente tiene accesco los resultados mediante reportes, gráficas en tiempo real. Finalmente este paso permite realizar una retrospectiva para determinar los aciertos y áreas de oportunidad.\n"
      ]
    }
  ]
}